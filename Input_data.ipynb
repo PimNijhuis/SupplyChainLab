{
 "cells": [
  {
   "cell_type": "markdown",
   "metadata": {},
   "source": [
    "### Input Data"
   ]
  },
  {
   "cell_type": "code",
   "execution_count": 1,
   "metadata": {},
   "outputs": [],
   "source": [
    "factories = {\"Ijmuiden\", \"Segal\", \"South Wales\"}\n",
    "transshipment_points = {\"Robert Schmidtz\", \"Wiechers\", \"Haeger und Schmidt\", \"Neska/UCT Neuss\",\n",
    "\t\t\t\"WTA\", \"Siefert spedition\", \"Rhenus logistics\"}\n",
    "customers = {\"Bochum\", \"Boenen\", \"Dortmund\", \"Gelsenkirchen\", \"Hagen\", \"Iserlohn\", \"Neuss\", \"Schwerte\"}\n",
    "\n",
    "modes = {'block train', 'single wagon', 'shortsea shipping','barge','trucks'}\n",
    "\n",
    "production_cap = {\"Ijmuiden\": 1850, \"Segal\": 30, \"South Wales\": 190}\n",
    "\n",
    "transfer_cost = 1.10\n",
    "truck_cap = 25.5\n",
    "truck_fixed_cost = 83.18\n",
    "\n",
    "periods = [1,2,3,4,5,6,7,8,9,10]\n",
    "\n",
    "handling_costs = {\"Robert Schmidtz\": 1.85, \"Wiechers\": 2.56, \"Haeger und Schmidt\": 3.90, \"Neska/UCT Neuss\": 2.80,\n",
    "\t\t\t\"WTA\": 4.00, \"Siefert spedition\": 2.48, \"Rhenus logistics\": 2.74}"
   ]
  },
  {
   "cell_type": "code",
   "execution_count": 2,
   "metadata": {},
   "outputs": [],
   "source": [
    "demands = {\n",
    "1:{'Bochum': 55.2, 'Boenen': 86.5, 'Dortmund': 50.7, 'Gelsenkirchen':69.8,\n",
    "        'Hagen':273.9,'Iserlohn':201.4, 'Neuss':230.7, 'Schwerte':12.4},\n",
    "2:{'Bochum': 54.6, 'Boenen': 86.2, 'Dortmund': 54.2, 'Gelsenkirchen':68.6,\n",
    "        'Hagen':273.9,'Iserlohn':200.2, 'Neuss':229.8, 'Schwerte':12.4},\n",
    "3:{'Bochum': 54.0, 'Boenen': 86.0, 'Dortmund': 57.7, 'Gelsenkirchen':67.3,\n",
    "        'Hagen':273.9,'Iserlohn':199.1, 'Neuss':228.8, 'Schwerte':12.5},\n",
    "4:{'Bochum': 53.4, 'Boenen': 85.7, 'Dortmund': 61.2, 'Gelsenkirchen':66.1,\n",
    "        'Hagen':273.9,'Iserlohn':197.9, 'Neuss':227.9, 'Schwerte':12.5},\n",
    "5:{'Bochum': 52.7, 'Boenen': 85.5, 'Dortmund': 64.6, 'Gelsenkirchen':64.9,\n",
    "        'Hagen':274.0,'Iserlohn':196.8, 'Neuss':227.0, 'Schwerte':12.5},\n",
    "6:{'Bochum': 52.1, 'Boenen': 85.3, 'Dortmund': 68.1, 'Gelsenkirchen':63.7,\n",
    "        'Hagen':274.0,'Iserlohn':195.6, 'Neuss':226.1, 'Schwerte':12.6},\n",
    "7:{'Bochum': 51.5, 'Boenen': 85.0, 'Dortmund': 71.6, 'Gelsenkirchen':62.5,\n",
    "        'Hagen':274.0,'Iserlohn':194.5, 'Neuss':225.2, 'Schwerte':12.6},\n",
    "8:{'Bochum': 50.9, 'Boenen': 84.8, 'Dortmund': 75.1, 'Gelsenkirchen':61.3,\n",
    "        'Hagen':274.0,'Iserlohn':193.3, 'Neuss':224.3, 'Schwerte':12.7},\n",
    "9:{'Bochum': 50.3, 'Boenen': 84.6, 'Dortmund': 78.5, 'Gelsenkirchen':60.1,\n",
    "        'Hagen':274.0,'Iserlohn':192.2, 'Neuss':223.4, 'Schwerte':12.7},\n",
    "10:{'Bochum': 49.7, 'Boenen': 84.3, 'Dortmund': 82.0, 'Gelsenkirchen':58.9,\n",
    "        'Hagen':274.0,'Iserlohn':191.0, 'Neuss':222.5, 'Schwerte':12.8}\n",
    "}"
   ]
  },
  {
   "cell_type": "code",
   "execution_count": 3,
   "metadata": {},
   "outputs": [],
   "source": [
    "dist_fact_cust = {\n",
    " ('Ijmuiden','Bochum'): 251,\n",
    " ('Segal','Bochum'): 209,\n",
    " ('South Wales','Bochum'): 822,\n",
    " ('Ijmuiden','Boenen'): 279,\n",
    " ('Segal','Boenen'): 241,\n",
    " ('South Wales','Boenen'): 863,\n",
    " ('Ijmuiden','Dortmund'): 264,\n",
    " ('Segal','Dortmund'): 226,\n",
    " ('South Wales','Dortmund'): 840,\n",
    " ('Ijmuiden','Gelsenkirchen'): 232,\n",
    " ('Segal','Gelsenkirchen'): 199,\n",
    " ('South Wales','Gelsenkirchen'): 809,\n",
    " ('Ijmuiden','Hagen'): 287,\n",
    " ('Segal','Hagen'): 210,\n",
    " ('South Wales','Hagen'): 854,\n",
    " ('Ijmuiden','Iserlohn'): 286,\n",
    " ('Segal','Iserlohn'): 228,\n",
    " ('South Wales','Iserlohn'): 858,\n",
    " ('Ijmuiden','Neuss'): 260,\n",
    " ('Segal','Neuss'): 149,\n",
    " ('South Wales','Neuss'): 796,\n",
    " ('Ijmuiden','Schwerte'): 237,\n",
    " ('Segal','Schwerte'): 202,\n",
    " ('South Wales','Schwerte'): 809\n",
    " }\n",
    "\n",
    "dist_point_cust = {\n",
    "('Bochum', 'Robert Schmidtz'): 49.9,\n",
    "('Bochum', 'Wiechers'): 36.6,\n",
    "('Bochum', 'Haeger und Schmidt'): 47.5,\n",
    "('Bochum', 'Neska/UCT Neuss'): 61.5,\n",
    "('Bochum', 'WTA'): 237,\n",
    "('Bochum', 'Siefert spedition'): 21.6,\n",
    "('Bochum', 'Rhenus logistics'): 19.7,\n",
    "\n",
    "('Boenen', 'Robert Schmidtz'): 91.4,\n",
    "('Boenen', 'Wiechers'): 48.8,\n",
    "('Boenen', 'Haeger und Schmidt'): 83.1,\n",
    "('Boenen', 'Neska/UCT Neuss'): 101,\n",
    "('Boenen', 'WTA'): 265,\n",
    "('Boenen', 'Siefert spedition'): 58.5,\n",
    "('Boenen', 'Rhenus logistics'): 36.5,\n",
    "\n",
    "('Dortmund', 'Robert Schmidtz'): 68.8,\n",
    "('Dortmund', 'Wiechers'): 33.2,\n",
    "('Dortmund', 'Haeger und Schmidt'): 60.2,\n",
    "('Dortmund', 'Neska/UCT Neuss'): 75.9,\n",
    "('Dortmund', 'WTA'): 250,\n",
    "('Dortmund', 'Siefert spedition'): 34.2,\n",
    "('Dortmund', 'Rhenus logistics'): 4,\n",
    "\n",
    "('Gelsenkirchen', 'Robert Schmidtz'): 37.1,\n",
    "('Gelsenkirchen', 'Wiechers'): 57.2,\n",
    "('Gelsenkirchen', 'Haeger und Schmidt'): 28.5,\n",
    "('Gelsenkirchen', 'Neska/UCT Neuss'): 52.5,\n",
    "('Gelsenkirchen', 'WTA'): 219,\n",
    "('Gelsenkirchen', 'Siefert spedition'): 4,\n",
    "('Gelsenkirchen', 'Rhenus logistics'): 34,\n",
    "\n",
    "('Hagen', 'Robert Schmidtz'): 82.3,\n",
    "('Hagen', 'Wiechers'): 81.6,\n",
    "('Hagen', 'Haeger und Schmidt'): 80.9,\n",
    "('Hagen', 'Neska/UCT Neuss'): 68.9,\n",
    "('Hagen', 'WTA'): 273,\n",
    "('Hagen', 'Siefert spedition'): 54.8,\n",
    "('Hagen', 'Rhenus logistics'): 35.4,\n",
    "\n",
    "('Iserlohn', 'Robert Schmidtz'): 86.2,\n",
    "('Iserlohn', 'Wiechers'): 25.5,\n",
    "('Iserlohn', 'Haeger und Schmidt'): 84.8,\n",
    "('Iserlohn', 'Neska/UCT Neuss'): 87,\n",
    "('Iserlohn', 'WTA'): 272,\n",
    "('Iserlohn', 'Siefert spedition'): 58.8,\n",
    "('Iserlohn', 'Rhenus logistics'): 39.4,\n",
    "\n",
    "('Neuss', 'Robert Schmidtz'): 37.1,\n",
    "('Neuss', 'Wiechers'): 64.4,\n",
    "('Neuss', 'Haeger und Schmidt'): 42.1,\n",
    "('Neuss', 'Neska/UCT Neuss'): 0,\n",
    "('Neuss', 'WTA'): 247,\n",
    "('Neuss', 'Siefert spedition'): 65,\n",
    "('Neuss', 'Rhenus logistics'): 87.9,\n",
    "\n",
    "('Schwerte', 'Robert Schmidtz'): 37.4,\n",
    "('Schwerte', 'Wiechers'): 51.3,\n",
    "('Schwerte', 'Haeger und Schmidt'): 34,\n",
    "('Schwerte', 'Neska/UCT Neuss'): 49,\n",
    "('Schwerte', 'WTA'): 224,\n",
    "('Schwerte', 'Siefert spedition'): 8.06,\n",
    "('Schwerte', 'Rhenus logistics'): 29.7}"
   ]
  },
  {
   "cell_type": "code",
   "execution_count": 4,
   "metadata": {},
   "outputs": [],
   "source": [
    "block_train_cost = {\n",
    "('Ijmuiden', 'Robert Schmidtz'): 10,\n",
    "('Segal', 'Robert Schmidtz'): 10,\n",
    "('South Wales', 'Robert Schmidtz'): 40.82,\n",
    "('Ijmuiden', 'Wiechers'): 10,\n",
    "('Segal', 'Wiechers'): 10,\n",
    "('South Wales', 'Wiechers'): 40.82\n",
    "}"
   ]
  },
  {
   "cell_type": "code",
   "execution_count": 5,
   "metadata": {},
   "outputs": [],
   "source": [
    "single_wagon_cost = {\n",
    "('Ijmuiden', 'Robert Schmidtz'): 15.14,\n",
    "('Segal', 'Robert Schmidtz'): 15.14,\n",
    "('South Wales', 'Robert Schmidtz'): 15.14,\n",
    "('Ijmuiden', 'Wiechers'): 14.71,\n",
    "('Segal', 'Wiechers'): 14.71,\n",
    "('South Wales', 'Wiechers'): 14.71\n",
    "}"
   ]
  },
  {
   "cell_type": "code",
   "execution_count": 6,
   "metadata": {},
   "outputs": [],
   "source": [
    "shortsea_cost = {\n",
    "('Ijmuiden', 'Haeger und Schmidt'): 4,\n",
    "('Segal', 'Haeger und Schmidt'): 4.31,\n",
    "('South Wales', 'Haeger und Schmidt'): 21,\n",
    "('Ijmuiden', 'Neska/UCT Neuss'): 5,\n",
    "('Segal', 'Neska/UCT Neuss'): 5.59,\n",
    "('South Wales', 'Neska/UCT Neuss'): 16,\n",
    "('Ijmuiden', 'WTA'): 1.95,\n",
    "('Segal', 'WTA'): 1.95,\n",
    "('South Wales', 'WTA'): 12.6\n",
    "}"
   ]
  },
  {
   "cell_type": "code",
   "execution_count": 7,
   "metadata": {},
   "outputs": [],
   "source": [
    "barge_cost = {\n",
    "('Ijmuiden', 'Siefert spedition'): 5,\n",
    "('Segal', 'Siefert spedition'): 5,\n",
    "('South Wales', 'Siefert spedition'): 10000000,\n",
    "('Ijmuiden', 'Rhenues logistics'): 5,\n",
    "('Segal', 'Rhenues logistics'): 5,\n",
    "('South Wales', 'Rhenues logistics'): 10000000\n",
    "}"
   ]
  },
  {
   "cell_type": "code",
   "execution_count": 10,
   "metadata": {},
   "outputs": [
    {
     "data": {
      "text/plain": [
       "{'Rhenues logistics', 'Siefert spedition'}"
      ]
     },
     "execution_count": 10,
     "metadata": {},
     "output_type": "execute_result"
    }
   ],
   "source": [
    "block_trans = {str(j) for i,j in block_train_cost}\n",
    "single_trans = {str(j) for i,j in single_wagon_cost}\n",
    "shortsea_trans = {str(j) for i,j in shortsea_cost}\n",
    "barge_trans = {str(j) for i,j in barge_cost}"
   ]
  },
  {
   "cell_type": "code",
   "execution_count": 9,
   "metadata": {},
   "outputs": [
    {
     "name": "stdout",
     "output_type": "stream",
     "text": [
      "Stored 'barge_cost' (dict)\n",
      "Stored 'shortsea_cost' (dict)\n",
      "Stored 'single_wagon_cost' (dict)\n",
      "Stored 'block_train_cost' (dict)\n",
      "Stored 'dist_point_cust' (dict)\n",
      "Stored 'demands' (dict)\n",
      "Stored 'dist_fact_cust' (dict)\n",
      "Stored 'handling_costs' (dict)\n",
      "Stored 'periods' (list)\n",
      "Stored 'factories' (set)\n",
      "Stored 'transshipment_points' (set)\n",
      "Stored 'customers' (set)\n",
      "Stored 'modes' (set)\n",
      "Stored 'production_cap' (dict)\n",
      "Stored 'transfer_cost' (float)\n",
      "Stored 'truck_cap' (float)\n",
      "Stored 'block_trans' (set)\n",
      "Stored 'single_trans' (set)\n",
      "Stored 'shortsea_trans' (set)\n",
      "Stored 'barge_trans' (set)\n",
      "Stored 'truck_fixed_cost' (float)\n"
     ]
    }
   ],
   "source": [
    "%store barge_cost shortsea_cost single_wagon_cost \\\n",
    "    block_train_cost dist_point_cust demands dist_fact_cust \\\n",
    "        handling_costs periods factories transshipment_points \\\n",
    "            customers modes production_cap transfer_cost truck_cap \\\n",
    "                block_trans single_trans shortsea_trans barge_trans truck_fixed_cost"
   ]
  }
 ],
 "metadata": {
  "interpreter": {
   "hash": "397704579725e15f5c7cb49fe5f0341eb7531c82d19f2c29d197e8b64ab5776b"
  },
  "kernelspec": {
   "display_name": "Python 3.9.5 64-bit",
   "language": "python",
   "name": "python3"
  },
  "language_info": {
   "codemirror_mode": {
    "name": "ipython",
    "version": 3
   },
   "file_extension": ".py",
   "mimetype": "text/x-python",
   "name": "python",
   "nbconvert_exporter": "python",
   "pygments_lexer": "ipython3",
   "version": "3.9.5"
  },
  "orig_nbformat": 4
 },
 "nbformat": 4,
 "nbformat_minor": 2
}
