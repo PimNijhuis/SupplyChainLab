{
 "cells": [
  {
   "cell_type": "code",
   "execution_count": 1,
   "metadata": {},
   "outputs": [],
   "source": [
    "## Data\n",
    "\n",
    "numLines = 2\n",
    "numTypeGlue = 3\n",
    "\n",
    "# max number of workers per week\n",
    "maxW = 20\n",
    "\n",
    "# weekly pay per worker in production line l \n",
    "p = {1:500 , 2:900 }\n",
    "\n",
    "#setup costs for each production line\n",
    "s = {1:5000, 2:4000}\n",
    "\n",
    "## weekly production per worker for each type of glue in each production line \n",
    "\n",
    "a = {(1,1):20 , (2,1):30 ,(3,1):40 , \n",
    "    (1,2):50 , (2,2):35, (3,2):45, \n",
    "    }\n",
    "\n",
    "## minimum number of units of glue to produce per week\n",
    "b = {1:800 , 2:750 , 3:100}\n",
    "\n",
    "\n"
   ]
  },
  {
   "cell_type": "code",
   "execution_count": 2,
   "metadata": {},
   "outputs": [],
   "source": [
    "import pyomo.environ as pe\n",
    "import pyomo.opt as po"
   ]
  },
  {
   "cell_type": "code",
   "execution_count": 3,
   "metadata": {},
   "outputs": [],
   "source": [
    "model = pe.ConcreteModel()\n",
    "model.G = pe.RangeSet(1,numTypeGlue)\n",
    "model.L = pe.RangeSet(1,numLines)"
   ]
  },
  {
   "cell_type": "code",
   "execution_count": 4,
   "metadata": {},
   "outputs": [],
   "source": [
    "## Variables\n",
    "model.x = pe.Var(model.L, domain = pe.NonNegativeIntegers)\n",
    "model.y = pe.Var(model.L, domain = pe.Binary)"
   ]
  },
  {
   "cell_type": "code",
   "execution_count": 5,
   "metadata": {},
   "outputs": [],
   "source": [
    "## Objective function\n",
    "objExpr = sum(model.x[l] * p[l] + model.y[l] * s[l] for l in model.L)\n",
    "model.obj = pe.Objective(expr = objExpr, sense = pe.minimize)"
   ]
  },
  {
   "cell_type": "code",
   "execution_count": 6,
   "metadata": {},
   "outputs": [],
   "source": [
    "## Constraints\n",
    "\n",
    "## Min production for each type of glue\n",
    "model.minProdGlue = pe.ConstraintList()\n",
    "for g in model.G:\n",
    "    expression = sum(a[g,l] * model.x[l] for l in model.L) >= b[g]\n",
    "    model.minProdGlue.add(expression)\n",
    "\n",
    "## bigM constraints to take care of setup costs and max number of workers\n",
    "model.bigMconstr = pe.ConstraintList()\n",
    "for l in model.L:\n",
    "    expression = model.x[l] <= maxW * model.y[l]\n",
    "    model.bigMconstr.add(expression)\n"
   ]
  },
  {
   "cell_type": "code",
   "execution_count": 7,
   "metadata": {},
   "outputs": [
    {
     "name": "stdout",
     "output_type": "stream",
     "text": [
      "Set parameter Username\n",
      "Academic license - for non-commercial use only - expires 2022-12-10\n",
      "Read LP format model from file C:\\Users\\rpo330\\AppData\\Local\\Temp\\tmpcunfpmyp.pyomo.lp\n",
      "Reading time = 0.00 seconds\n",
      "x5: 6 rows, 5 columns, 11 nonzeros\n",
      "Gurobi Optimizer version 9.5.0 build v9.5.0rc5 (win64)\n",
      "Thread count: 6 physical cores, 12 logical processors, using up to 12 threads\n",
      "Optimize a model with 6 rows, 5 columns and 11 nonzeros\n",
      "Model fingerprint: 0x036b6b31\n",
      "Variable types: 1 continuous, 4 integer (2 binary)\n",
      "Coefficient statistics:\n",
      "  Matrix range     [1e+00, 5e+01]\n",
      "  Objective range  [5e+02, 5e+03]\n",
      "  Bounds range     [1e+00, 1e+00]\n",
      "  RHS range        [1e+00, 8e+02]\n",
      "Presolve removed 4 rows and 3 columns\n",
      "Presolve time: 0.00s\n",
      "Presolved: 2 rows, 2 columns, 4 nonzeros\n",
      "Variable types: 0 continuous, 2 integer (0 binary)\n",
      "Found heuristic solution: objective 27600.000000\n",
      "Found heuristic solution: objective 26200.000000\n",
      "\n",
      "Root relaxation: objective 2.506250e+04, 2 iterations, 0.00 seconds (0.00 work units)\n",
      "\n",
      "    Nodes    |    Current Node    |     Objective Bounds      |     Work\n",
      " Expl Unexpl |  Obj  Depth IntInf | Incumbent    BestBd   Gap | It/Node Time\n",
      "\n",
      "     0     0 25062.5000    0    2 26200.0000 25062.5000  4.34%     -    0s\n",
      "H    0     0                    25300.000000 25062.5000  0.94%     -    0s\n",
      "\n",
      "Explored 1 nodes (2 simplex iterations) in 0.00 seconds (0.00 work units)\n",
      "Thread count was 12 (of 12 available processors)\n",
      "\n",
      "Solution count 3: 25300 26200 27600 \n",
      "\n",
      "Optimal solution found (tolerance 1.00e-04)\n",
      "Best objective 2.530000000000e+04, best bound 2.530000000000e+04, gap 0.0000%\n"
     ]
    }
   ],
   "source": [
    "solver = po.SolverFactory('gurobi')\n",
    "result = solver.solve(model, tee= True)\n"
   ]
  },
  {
   "cell_type": "code",
   "execution_count": 8,
   "metadata": {},
   "outputs": [
    {
     "name": "stdout",
     "output_type": "stream",
     "text": [
      "ok\n",
      "optimal\n"
     ]
    }
   ],
   "source": [
    "print(result.solver.status)\n",
    "print(result.solver.termination_condition)"
   ]
  },
  {
   "cell_type": "code",
   "execution_count": 9,
   "metadata": {},
   "outputs": [
    {
     "name": "stdout",
     "output_type": "stream",
     "text": [
      "Total cost = 25300.0\n",
      "Optimal solution:\n",
      "x[1] = 11.0\n",
      "y[1] = 1.0\n",
      "x[2] = 12.0\n",
      "y[2] = 1.0\n"
     ]
    }
   ],
   "source": [
    "print(\"Total cost = \"+ str(pe.value(model.obj)))\n",
    "print(\"Optimal solution:\")\n",
    "for l in model.L: \n",
    "        if(pe.value(model.x[l]) > 0):\n",
    "            print(str(model.x[l])+\" = \"+str(pe.value(model.x[l])))\n",
    "        if(pe.value(model.y[l]) > 0):\n",
    "             print(str(model.y[l])+\" = \"+str(pe.value(model.y[l])))"
   ]
  }
 ],
 "metadata": {
  "kernelspec": {
   "display_name": "Python 3",
   "language": "python",
   "name": "python3"
  },
  "language_info": {
   "codemirror_mode": {
    "name": "ipython",
    "version": 3
   },
   "file_extension": ".py",
   "mimetype": "text/x-python",
   "name": "python",
   "nbconvert_exporter": "python",
   "pygments_lexer": "ipython3",
   "version": "3.8.5"
  }
 },
 "nbformat": 4,
 "nbformat_minor": 4
}
