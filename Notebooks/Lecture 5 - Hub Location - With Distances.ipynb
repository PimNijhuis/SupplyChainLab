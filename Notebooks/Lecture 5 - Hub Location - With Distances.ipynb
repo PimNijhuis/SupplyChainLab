{
 "cells": [
  {
   "cell_type": "code",
   "execution_count": 1,
   "metadata": {},
   "outputs": [],
   "source": [
    "cities = { 'AT' , 'BO' , 'CH' , 'DE' , 'HO' , 'LA' , 'NO' , 'NY' , 'PI' , 'SL' , 'SF' , 'SE' }\n",
    "\n",
    "# Change this parameter to check for different max distances\n",
    "maxd = 800;\n",
    "\n",
    "d  = { \n",
    "      ('AT', 'AT'):0,  ('AT', 'BO'):1037, ('AT', 'CH'):674, ('AT', 'DE'):1398,  ('AT', 'HO'):789, ('AT', 'LA'):2182, \n",
    "      ('AT', 'NO'):479,  ('AT', 'NY'):841, ('AT', 'PI'):687, ('AT', 'SL'):1878,  ('AT', 'SF'):2946, ('AT', 'SE'):2618, \n",
    "      \n",
    "      ('BO', 'AT'):1037,  ('BO', 'BO'):0, ('BO', 'CH'):1005, ('BO', 'DE'):1949,  ('BO', 'HO'):1804, ('BO', 'LA'):2979, \n",
    "      ('BO', 'NO'):1507,  ('BO', 'NY'):222, ('BO', 'PI'):574, ('BO', 'SL'):2343,  ('BO', 'SF'):3095, ('BO', 'SE'):2976, \n",
    "      \n",
    "      ('CH', 'AT'):674,  ('CH', 'BO'):1005, ('CH', 'CH'):0, ('CH', 'DE'): 1008,  ('CH', 'HO'):1067 , ('CH', 'LA'):2054 , \n",
    "      ('CH', 'NO'):912 ,  ('CH', 'NY'):802 , ('CH', 'PI'):452 , ('CH', 'SL'):1390 ,  ('CH', 'SF'):2142, ('CH', 'SE'):2013, \n",
    "      \n",
    "      ('DE', 'AT'):1398,  ('DE', 'BO'):1949, ('DE', 'CH'):1008, ('DE', 'DE'):0,  ('DE', 'HO'):1019, ('DE', 'LA'):1059, \n",
    "      ('DE', 'NO'):1273,  ('DE', 'NY'):1771, ('DE', 'PI'):1411, ('DE', 'SL'):504,  ('DE', 'SF'):1235, ('DE', 'SE'):1307,\n",
    "      \n",
    "      ('HO', 'AT'):789,  ('HO', 'BO'):1804, ('HO', 'CH'):1067, ('HO', 'DE'):1019,  ('HO', 'HO'):0, ('HO', 'LA'):1538, \n",
    "      ('HO', 'NO'):356,  ('HO', 'NY'):1608, ('HO', 'PI'):1313, ('HO', 'SL'):1438,  ('HO', 'SF'):1912, ('HO', 'SE'):2274,\n",
    "      \n",
    "      ('LA', 'AT'):2182,  ('LA', 'BO'):2979, ('LA', 'CH'):2054, ('LA', 'DE'):1059,  ('LA', 'HO'):1538, ('LA', 'LA'):0, \n",
    "      ('LA', 'NO'):1883,  ('LA', 'NY'):2786, ('LA', 'PI'):2426, ('LA', 'SL'):715,  ('LA', 'SF'):379, ('LA', 'SE'):1131,\n",
    "      \n",
    "      ('NO', 'AT'):479,  ('NO', 'BO'):1507, ('NO', 'CH'):912, ('NO', 'DE'):1273,  ('NO', 'HO'):356, ('NO', 'LA'):1883, \n",
    "      ('NO', 'NO'):0,  ('NO', 'NY'):1311, ('NO', 'PI'):1070, ('NO', 'SL'):1738,  ('NO', 'SF'):2249, ('NO', 'SE'):2574,\n",
    "      \n",
    "      ('NY', 'AT'):841,  ('NY', 'BO'):222, ('NY', 'CH'):802, ('NY', 'DE'):1771,  ('NY', 'HO'):1608, ('NY', 'LA'):2786, \n",
    "      ('NY', 'NO'):1311,  ('NY', 'NY'):0, ('NY', 'PI'):368, ('NY', 'SL'):2182,  ('NY', 'SF'):2934, ('NY', 'SE'):2815,\n",
    "      \n",
    "      ('PI', 'AT'):687,  ('PI', 'BO'):574, ('PI', 'CH'):452, ('PI', 'DE'):1411,  ('PI', 'HO'):1313, ('PI', 'LA'):2426, \n",
    "      ('PI', 'NO'):1070,  ('PI', 'NY'):368, ('PI', 'PI'):0, ('PI', 'SL'):1826,  ('PI', 'SF'):2578, ('PI', 'SE'):2465,\n",
    "      \n",
    "      ('SL', 'AT'):1878,  ('SL', 'BO'):2343, ('SL', 'CH'):1390, ('SL', 'DE'):504,  ('SL', 'HO'):1438, ('SL', 'LA'):715, \n",
    "      ('SL', 'NO'):1738,  ('SL', 'NY'):2182, ('SL', 'PI'):1826, ('SL', 'SL'):0,  ('SL', 'SF'):752, ('SL', 'SE'):836,\n",
    "      \n",
    "      ('SF', 'AT'):2496,  ('SF', 'BO'):3095, ('SF', 'CH'):2142, ('SF', 'DE'):1235,  ('SF', 'HO'):1912, ('SF', 'LA'):379, \n",
    "      ('SF', 'NO'):2249,  ('SF', 'NY'):2934, ('SF', 'PI'):2578, ('SF', 'SL'):752,  ('SF', 'SF'):0, ('SF', 'SE'):808,\n",
    "      \n",
    "      ('SE', 'AT'):2618,  ('SE', 'BO'):2976, ('SE', 'CH'):2013, ('SE', 'DE'):1307,  ('SE', 'HO'):2274, ('SE', 'LA'):1131, \n",
    "      ('SE', 'NO'):2574,  ('SE', 'NY'):2815, ('SE', 'PI'):2465, ('SE', 'SL'):836,  ('SE', 'SF'):808, ('SE', 'SE'):0\n",
    "}"
   ]
  },
  {
   "cell_type": "code",
   "execution_count": 2,
   "metadata": {},
   "outputs": [],
   "source": [
    "import pyomo.environ as pe\n",
    "import pyomo.opt as po"
   ]
  },
  {
   "cell_type": "code",
   "execution_count": 3,
   "metadata": {},
   "outputs": [],
   "source": [
    "model = pe.ConcreteModel()"
   ]
  },
  {
   "cell_type": "code",
   "execution_count": 4,
   "metadata": {},
   "outputs": [],
   "source": [
    "model.C = pe.Set(initialize = cities, ordered = False)"
   ]
  },
  {
   "cell_type": "code",
   "execution_count": 5,
   "metadata": {},
   "outputs": [],
   "source": [
    "model.x = pe.Var(model.C, domain = pe.Binary)"
   ]
  },
  {
   "cell_type": "code",
   "execution_count": 6,
   "metadata": {},
   "outputs": [],
   "source": [
    "objExpr = sum(model.x[c] for c in model.C)\n",
    "model.obj = pe.Objective(expr = objExpr, sense = pe.minimize)"
   ]
  },
  {
   "cell_type": "code",
   "execution_count": 7,
   "metadata": {},
   "outputs": [],
   "source": [
    "model.cnstr = pe.ConstraintList()\n",
    "for i in model.C: \n",
    "    expression = sum(model.x[j] for j in model.C if d[i,j] <= maxd) >= 1\n",
    "    model.cnstr.add(expression)\n"
   ]
  },
  {
   "cell_type": "code",
   "execution_count": 8,
   "metadata": {},
   "outputs": [
    {
     "name": "stdout",
     "output_type": "stream",
     "text": [
      "Set parameter Username\n",
      "Academic license - for non-commercial use only - expires 2022-12-10\n",
      "Read LP format model from file C:\\Users\\rpo330\\AppData\\Local\\Temp\\tmp1xusykss.pyomo.lp\n",
      "Reading time = 0.01 seconds\n",
      "x13: 13 rows, 13 columns, 39 nonzeros\n",
      "Gurobi Optimizer version 9.5.0 build v9.5.0rc5 (win64)\n",
      "Thread count: 6 physical cores, 12 logical processors, using up to 12 threads\n",
      "Optimize a model with 13 rows, 13 columns and 39 nonzeros\n",
      "Model fingerprint: 0xca349f02\n",
      "Variable types: 1 continuous, 12 integer (12 binary)\n",
      "Coefficient statistics:\n",
      "  Matrix range     [1e+00, 1e+00]\n",
      "  Objective range  [1e+00, 1e+00]\n",
      "  Bounds range     [1e+00, 1e+00]\n",
      "  RHS range        [1e+00, 1e+00]\n",
      "Found heuristic solution: objective 5.0000000\n",
      "Presolve removed 13 rows and 13 columns\n",
      "Presolve time: 0.00s\n",
      "Presolve: All rows and columns removed\n",
      "\n",
      "Explored 0 nodes (0 simplex iterations) in 0.00 seconds (0.00 work units)\n",
      "Thread count was 1 (of 12 available processors)\n",
      "\n",
      "Solution count 2: 4 5 \n",
      "\n",
      "Optimal solution found (tolerance 1.00e-04)\n",
      "Best objective 4.000000000000e+00, best bound 4.000000000000e+00, gap 0.0000%\n"
     ]
    }
   ],
   "source": [
    "solver = po.SolverFactory('gurobi')\n",
    "result = solver.solve(model, tee = True)"
   ]
  },
  {
   "cell_type": "code",
   "execution_count": 9,
   "metadata": {},
   "outputs": [
    {
     "name": "stdout",
     "output_type": "stream",
     "text": [
      "ok\n",
      "optimal\n"
     ]
    }
   ],
   "source": [
    "print(result.solver.status)\n",
    "print(result.solver.termination_condition)"
   ]
  },
  {
   "cell_type": "code",
   "execution_count": 10,
   "metadata": {},
   "outputs": [
    {
     "name": "stdout",
     "output_type": "stream",
     "text": [
      "x[SE] = 1.0\n",
      "x[PI] = 1.0\n",
      "x[SL] = 1.0\n",
      "x[AT] = 1.0\n"
     ]
    }
   ],
   "source": [
    "for c in model.C:\n",
    "    if(pe.value(model.x[c]) > 0):\n",
    "        print(str(model.x[c]) + \" = \" + str(pe.value(model.x[c])))"
   ]
  }
 ],
 "metadata": {
  "kernelspec": {
   "display_name": "Python 3",
   "language": "python",
   "name": "python3"
  },
  "language_info": {
   "codemirror_mode": {
    "name": "ipython",
    "version": 3
   },
   "file_extension": ".py",
   "mimetype": "text/x-python",
   "name": "python",
   "nbconvert_exporter": "python",
   "pygments_lexer": "ipython3",
   "version": "3.8.5"
  }
 },
 "nbformat": 4,
 "nbformat_minor": 4
}
