{
 "cells": [
  {
   "cell_type": "markdown",
   "metadata": {},
   "source": [
    "# Lecture 2 - Knapsack problem \n",
    "## We want to find the optimal solution of the following knapasack problem: \n",
    "### 1. 4 items (i.e., $n$ = 4, $N$ = {1,2,3,4});\n",
    "### 2. profits equal to 2, 8, 2, 6, respectively (i.e., $p_1 = 2$, $p_2 = 8$, $p_3 = 2$, $p_4 = 6$ );\n",
    "### 3. weights equal to 6, 3, 1, 4, respectively (i.e., $w_1 = 6$, $w_2 = 3$, $w_3 = 1$,$w_4 = 4$) ;\n",
    "### 4. the maximum capacity is equal to 9 (i.e., $c = 9$).\n",
    "## $$\n",
    "\\\\\n",
    "\\begin{alignat}{3}\n",
    "\\max & \\sum_{i \\in N} p_i x_i & \\label{KP.0} \\\\\n",
    "\\text{s.t.}  & \\sum_{i \\in N} w_i x_i \\leq c & \\label{KP.1} \\\\\n",
    "     & x_i \\in \\{0,1\\} & \\qquad \\forall i \\in N \\label{KP.2}\n",
    "\\end{alignat}\n",
    "$$"
   ]
  },
  {
   "cell_type": "code",
   "execution_count": 1,
   "metadata": {},
   "outputs": [],
   "source": [
    "n = 4\n",
    "p = { 1: 2 ,2: 8 ,3: 2 ,4: 6 } ;\n",
    "w = { 1:6 ,2:3 ,3:1 ,4:4 };\n",
    "c = 9"
   ]
  },
  {
   "cell_type": "code",
   "execution_count": 2,
   "metadata": {},
   "outputs": [],
   "source": [
    "#Import packages\n",
    "import pyomo.environ as pe\n",
    "import pyomo.opt as po"
   ]
  },
  {
   "cell_type": "code",
   "execution_count": 3,
   "metadata": {},
   "outputs": [],
   "source": [
    "## Initialize the model\n",
    "model = pe.ConcreteModel()\n"
   ]
  },
  {
   "cell_type": "code",
   "execution_count": 4,
   "metadata": {},
   "outputs": [
    {
     "name": "stdout",
     "output_type": "stream",
     "text": [
      "{1, 2, 3, 4}\n"
     ]
    }
   ],
   "source": [
    "#Define our set of indices N\n",
    "model.N = pe.Set(initialize = p.keys())\n",
    "#model.N = pe.RangeSet(1,n)\n",
    "print(set(model.N))"
   ]
  },
  {
   "cell_type": "code",
   "execution_count": 5,
   "metadata": {
    "scrolled": true
   },
   "outputs": [],
   "source": [
    "# Our set of variables\n",
    "model.x = pe.Var(model.N, domain = pe.Binary)"
   ]
  },
  {
   "cell_type": "code",
   "execution_count": 6,
   "metadata": {},
   "outputs": [
    {
     "name": "stdout",
     "output_type": "stream",
     "text": [
      "2*x[1] + 8*x[2] + 2*x[3] + 6*x[4]\n"
     ]
    }
   ],
   "source": [
    "#Objective function\n",
    "obj_expr = sum(model.x[i] * p[i] for i in model.N )\n",
    "model.obj = pe.Objective(sense = pe.maximize ,expr = obj_expr)\n",
    "print(model.obj.expr)"
   ]
  },
  {
   "cell_type": "code",
   "execution_count": 7,
   "metadata": {},
   "outputs": [],
   "source": [
    "con_expr = sum(w[i] * model.x[i] for i in model.N) <=c\n",
    "model.con = pe.Constraint(expr = con_expr)"
   ]
  },
  {
   "cell_type": "code",
   "execution_count": 8,
   "metadata": {},
   "outputs": [
    {
     "name": "stdout",
     "output_type": "stream",
     "text": [
      "Set parameter Username\n",
      "Academic license - for non-commercial use only - expires 2022-12-10\n",
      "Read LP format model from file C:\\Users\\rpo330\\AppData\\Local\\Temp\\tmpia71dol8.pyomo.lp\n",
      "Reading time = 0.00 seconds\n",
      "x5: 2 rows, 5 columns, 5 nonzeros\n",
      "Gurobi Optimizer version 9.5.0 build v9.5.0rc5 (win64)\n",
      "Thread count: 6 physical cores, 12 logical processors, using up to 12 threads\n",
      "Optimize a model with 2 rows, 5 columns and 5 nonzeros\n",
      "Model fingerprint: 0xb555f98b\n",
      "Variable types: 1 continuous, 4 integer (4 binary)\n",
      "Coefficient statistics:\n",
      "  Matrix range     [1e+00, 6e+00]\n",
      "  Objective range  [2e+00, 8e+00]\n",
      "  Bounds range     [1e+00, 1e+00]\n",
      "  RHS range        [1e+00, 9e+00]\n",
      "Presolve removed 2 rows and 5 columns\n",
      "Presolve time: 0.00s\n",
      "Presolve: All rows and columns removed\n",
      "\n",
      "Explored 0 nodes (0 simplex iterations) in 0.00 seconds (0.00 work units)\n",
      "Thread count was 1 (of 12 available processors)\n",
      "\n",
      "Solution count 1: 16 \n",
      "\n",
      "Optimal solution found (tolerance 1.00e-04)\n",
      "Best objective 1.600000000000e+01, best bound 1.600000000000e+01, gap 0.0000%\n"
     ]
    }
   ],
   "source": [
    "## Initialize the optimizer\n",
    "solver = po.SolverFactory('gurobi')\n",
    "result = solver.solve(model, tee = True)"
   ]
  },
  {
   "cell_type": "code",
   "execution_count": 9,
   "metadata": {},
   "outputs": [
    {
     "name": "stdout",
     "output_type": "stream",
     "text": [
      "x[1]=0.0\n",
      "x[2]=1.0\n",
      "x[3]=1.0\n",
      "x[4]=1.0\n"
     ]
    }
   ],
   "source": [
    "for i in model.N:\n",
    "    print(str(model.x[i])+\"=\"+str(pe.value(model.x[i])))"
   ]
  }
 ],
 "metadata": {
  "kernelspec": {
   "display_name": "Python 3",
   "language": "python",
   "name": "python3"
  },
  "language_info": {
   "codemirror_mode": {
    "name": "ipython",
    "version": 3
   },
   "file_extension": ".py",
   "mimetype": "text/x-python",
   "name": "python",
   "nbconvert_exporter": "python",
   "pygments_lexer": "ipython3",
   "version": "3.8.5"
  }
 },
 "nbformat": 4,
 "nbformat_minor": 4
}
