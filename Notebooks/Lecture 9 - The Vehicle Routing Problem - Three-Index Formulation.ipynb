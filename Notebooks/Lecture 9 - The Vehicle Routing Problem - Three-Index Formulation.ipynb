{
 "cells": [
  {
   "cell_type": "code",
   "execution_count": 12,
   "metadata": {},
   "outputs": [],
   "source": [
    "#Number of vehicles\n",
    "numVehicles = 5\n",
    "#auto 1: \n",
    "#capacity = 39\n",
    "#costs per km = 1\n",
    "\n",
    "#auto 2: \n",
    "#capacity = 39\n",
    "#costs per km = 1\n",
    "\n",
    "#set of cities\n",
    "cities = {'Ams', 'Rot', 'Hag', 'Utr', 'Ein', 'Til', 'Gro'}\n",
    "\n",
    "## start and end\n",
    "start = 'Ams'\n",
    "\n",
    "## Capacity of each vehicle\n",
    "Q = {1: 39, 2:39, 3:16, 4: 16, 5:16}\n",
    "\n",
    "## cost per km\n",
    "cKm = {1:1, 2:1, 3:0.5, 4:0.5, 5:0.5}\n",
    "\n",
    "# Demand at each location\n",
    "q = {'Ams':0, 'Rot':14, 'Hag':3, 'Utr':6, 'Ein':16, 'Til':15, 'Gro':5}\n",
    "\n",
    "## Distances between cities\n",
    "d = {('Ams', 'Ams'): 0,\n",
    " ('Ams', 'Rot'): 148,\n",
    " ('Ams', 'Hag'): 55,\n",
    " ('Ams', 'Utr'): 32,\n",
    " ('Ams', 'Ein'): 70,\n",
    " ('Ams', 'Til'): 140,\n",
    " ('Ams', 'Gro'): 73,\n",
    " ('Rot', 'Ams'): 148,\n",
    " ('Rot', 'Rot'): 0,\n",
    " ('Rot', 'Hag'): 93,\n",
    " ('Rot', 'Utr'): 180,\n",
    " ('Rot', 'Ein'): 99,\n",
    " ('Rot', 'Til'): 12,\n",
    " ('Rot', 'Gro'): 72,\n",
    " ('Hag', 'Ams'): 55,\n",
    " ('Hag', 'Rot'): 93,\n",
    " ('Hag', 'Hag'): 0,\n",
    " ('Hag', 'Utr'): 85,\n",
    " ('Hag', 'Ein'): 20,\n",
    " ('Hag', 'Til'): 83,\n",
    " ('Hag', 'Gro'): 28,\n",
    " ('Utr', 'Ams'): 32,\n",
    " ('Utr', 'Rot'): 180,\n",
    " ('Utr', 'Hag'): 85,\n",
    " ('Utr', 'Utr'): 0,\n",
    " ('Utr', 'Ein'): 100,\n",
    " ('Utr', 'Til'): 174,\n",
    " ('Utr', 'Gro'): 99,\n",
    " ('Ein', 'Ams'): 70,\n",
    " ('Ein', 'Rot'): 77,\n",
    " ('Ein', 'Hag'): 20,\n",
    " ('Ein', 'Utr'): 100,\n",
    " ('Ein', 'Ein'): 0,\n",
    " ('Ein', 'Til'): 85,\n",
    " ('Ein', 'Gro'): 49,\n",
    " ('Til', 'Ams'): 140,\n",
    " ('Til', 'Rot'): 12,\n",
    " ('Til', 'Hag'): 83,\n",
    " ('Til', 'Utr'): 174,\n",
    " ('Til', 'Ein'): 85,\n",
    " ('Til', 'Til'): 0,\n",
    " ('Til', 'Gro'): 73,\n",
    " ('Gro', 'Ams'): 73,\n",
    " ('Gro', 'Rot'): 72,\n",
    " ('Gro', 'Hag'): 28,\n",
    " ('Gro', 'Utr'): 99,\n",
    " ('Gro', 'Ein'): 49,\n",
    " ('Gro', 'Til'): 73,\n",
    " ('Gro', 'Gro'): 0}"
   ]
  },
  {
   "cell_type": "code",
   "execution_count": 13,
   "metadata": {},
   "outputs": [],
   "source": [
    "import pyomo.environ as pe\n",
    "import pyomo.opt as po"
   ]
  },
  {
   "cell_type": "code",
   "execution_count": 14,
   "metadata": {},
   "outputs": [],
   "source": [
    "model = pe.ConcreteModel()"
   ]
  },
  {
   "cell_type": "code",
   "execution_count": 15,
   "metadata": {},
   "outputs": [],
   "source": [
    "model.N = pe.Set(initialize =cities ,ordered = False)\n",
    "model.K = pe.RangeSet(1, numVehicles)"
   ]
  },
  {
   "cell_type": "code",
   "execution_count": 16,
   "metadata": {},
   "outputs": [],
   "source": [
    "model.x = pe.Var(model.N, model.N,model.K, domain = pe.Binary)\n",
    "model.u = pe.Var(model.N, model.K ,domain = pe.NonNegativeReals)"
   ]
  },
  {
   "cell_type": "code",
   "execution_count": 17,
   "metadata": {},
   "outputs": [],
   "source": [
    "objExpr = sum(model.x[i,j,k] * d[i,j] * cKm[k] for i in model.N for j in model.N for k in model.K)\n",
    "model.obj = pe.Objective(expr = objExpr, sense = pe.minimize)"
   ]
  },
  {
   "cell_type": "code",
   "execution_count": 18,
   "metadata": {},
   "outputs": [],
   "source": [
    "# Tour leaves each city\n",
    "model.cnstrOut = pe.ConstraintList()\n",
    "for j in model.N:\n",
    "    if j != start:\n",
    "        expression = sum(model.x[i,j,k] for i in model.N for k in model.K) == 1\n",
    "        model.cnstrOut.add(expression)\n",
    "    \n",
    "# Flow balance for each vehicle\n",
    "model.flowBalance = pe.ConstraintList()\n",
    "for j in model.N: \n",
    "    for k in model.K:\n",
    "        expression = sum(model.x[i,j,k] for i in model.N) == sum(model.x[j,h,k] for h in model.N)\n",
    "        model.flowBalance.add(expression)\n",
    "\n",
    "## Each vehicle can be used at most once\n",
    "model.vehicleUsage = pe.ConstraintList()\n",
    "for k in model.K:\n",
    "    expression = sum(model.x[start,j,k] for j in model.N) <= 1\n",
    "    model.vehicleUsage.add(expression)\n",
    "        \n",
    "# Subtours elimination constraints\n",
    "model.cnstrSubTour = pe.ConstraintList()\n",
    "for i in model.N:\n",
    "    for j in model.N:\n",
    "        if i != j and j != start:\n",
    "            for k in model.K:\n",
    "                expression = model.u[i,k] + q[j] <= model.u[j,k] + max(Q[k],q[j]) *(1 - model.x[i,j,k])\n",
    "                model.cnstrSubTour.add(expression)\n",
    "\n",
    "# Max Capacity\n",
    "model.cnstrCapl = pe.ConstraintList()\n",
    "for i in model.N:\n",
    "    for k in model.K:\n",
    "        expression = model.u[i,k] <= Q[k]\n",
    "        model.cnstrCapl.add(expression)\n",
    "\n",
    "model.cnstrCap2 = pe.ConstraintList()\n",
    "for i in model.N:\n",
    "    for k in model.K:\n",
    "        expression = model.u[i,k] >= q[i] \n",
    "        model.cnstrCap2.add(expression)            \n",
    "            \n",
    "            \n",
    "## Starting point\n",
    "model.cnstrStrat = pe.ConstraintList()\n",
    "for k in model.K:\n",
    "    expression = model.u[start,k] == 0\n",
    "    model.cnstrStrat.add(expression)\n",
    "\n",
    "\n",
    "\n",
    "## Prevent loops on a single node\n",
    "model.cnstrSingleLoop = pe.ConstraintList()\n",
    "for i in model.N:\n",
    "    for k in model.K:\n",
    "        expression = model.x[i,i,k] == 0\n",
    "        model.cnstrSingleLoop.add(expression)\n",
    "    \n"
   ]
  },
  {
   "cell_type": "code",
   "execution_count": 19,
   "metadata": {},
   "outputs": [
    {
     "name": "stdout",
     "output_type": "stream",
     "text": [
      "Set parameter Username\n",
      "Academic license - for non-commercial use only - expires 2022-04-14\n",
      "Read LP format model from file C:\\Users\\timva\\AppData\\Local\\Temp\\tmppdltpn1k.pyomo.lp\n",
      "Reading time = 0.01 seconds\n",
      "x281: 337 rows, 281 columns, 1316 nonzeros\n",
      "Gurobi Optimizer version 9.5.0 build v9.5.0rc5 (win64)\n",
      "Thread count: 4 physical cores, 8 logical processors, using up to 8 threads\n",
      "Optimize a model with 337 rows, 281 columns and 1316 nonzeros\n",
      "Model fingerprint: 0x3fcb3c06\n",
      "Variable types: 36 continuous, 245 integer (245 binary)\n",
      "Coefficient statistics:\n",
      "  Matrix range     [1e+00, 4e+01]\n",
      "  Objective range  [6e+00, 2e+02]\n",
      "  Bounds range     [1e+00, 1e+00]\n",
      "  RHS range        [1e+00, 4e+01]\n",
      "Found heuristic solution: objective 648.0000000\n",
      "Presolve removed 222 rows and 131 columns\n",
      "Presolve time: 0.00s\n",
      "Presolved: 115 rows, 150 columns, 870 nonzeros\n",
      "Variable types: 21 continuous, 129 integer (129 binary)\n",
      "\n",
      "Root relaxation: objective 1.390000e+02, 26 iterations, 0.00 seconds (0.00 work units)\n",
      "\n",
      "    Nodes    |    Current Node    |     Objective Bounds      |     Work\n",
      " Expl Unexpl |  Obj  Depth IntInf | Incumbent    BestBd   Gap | It/Node Time\n",
      "\n",
      "     0     0  139.00000    0   10  648.00000  139.00000  78.5%     -    0s\n",
      "H    0     0                     633.0000000  139.00000  78.0%     -    0s\n",
      "H    0     0                     480.0000000  153.00000  68.1%     -    0s\n",
      "     0     0  183.50000    0   10  480.00000  183.50000  61.8%     -    0s\n",
      "H    0     0                     479.0000000  183.50000  61.7%     -    0s\n",
      "H    0     0                     477.0000000  183.50000  61.5%     -    0s\n",
      "     0     0  252.73804    0   20  477.00000  252.73804  47.0%     -    0s\n",
      "     0     0  263.00000    0   21  477.00000  263.00000  44.9%     -    0s\n",
      "H    0     0                     397.0000000  263.00000  33.8%     -    0s\n",
      "     0     0  264.78519    0   12  397.00000  264.78519  33.3%     -    0s\n",
      "     0     0  268.00000    0   10  397.00000  268.00000  32.5%     -    0s\n",
      "     0     0  268.00000    0   10  397.00000  268.00000  32.5%     -    0s\n",
      "     0     0  268.00000    0   10  397.00000  268.00000  32.5%     -    0s\n",
      "     0     0  268.00000    0   10  397.00000  268.00000  32.5%     -    0s\n",
      "     0     0  274.98665    0   10  397.00000  274.98665  30.7%     -    0s\n",
      "     0     0  302.31507    0   10  397.00000  302.31507  23.9%     -    0s\n",
      "     0     0  302.31507    0   10  397.00000  302.31507  23.9%     -    0s\n",
      "     0     2  302.31507    0   10  397.00000  302.31507  23.9%     -    0s\n",
      "\n",
      "Cutting planes:\n",
      "  Cover: 1\n",
      "  Implied bound: 11\n",
      "  MIR: 6\n",
      "  StrongCG: 2\n",
      "  RLT: 15\n",
      "\n",
      "Explored 85 nodes (904 simplex iterations) in 0.09 seconds (0.04 work units)\n",
      "Thread count was 8 (of 8 available processors)\n",
      "\n",
      "Solution count 6: 397 477 479 ... 648\n",
      "\n",
      "Optimal solution found (tolerance 1.00e-04)\n",
      "Best objective 3.970000000000e+02, best bound 3.970000000000e+02, gap 0.0000%\n"
     ]
    }
   ],
   "source": [
    "#model.pprint()\n",
    "solver = po.SolverFactory('gurobi')\n",
    "result = solver.solve(model, tee = True)"
   ]
  },
  {
   "cell_type": "code",
   "execution_count": 20,
   "metadata": {},
   "outputs": [
    {
     "name": "stdout",
     "output_type": "stream",
     "text": [
      "ok\n",
      "optimal\n"
     ]
    }
   ],
   "source": [
    "print(result.solver.status)\n",
    "print(result.solver.termination_condition)"
   ]
  },
  {
   "cell_type": "code",
   "execution_count": 21,
   "metadata": {},
   "outputs": [
    {
     "name": "stdout",
     "output_type": "stream",
     "text": [
      "Objective value = 397.0\n"
     ]
    }
   ],
   "source": [
    "print(\"Objective value = \"+ str(pe.value(model.obj)))"
   ]
  },
  {
   "cell_type": "code",
   "execution_count": 22,
   "metadata": {},
   "outputs": [
    {
     "name": "stdout",
     "output_type": "stream",
     "text": [
      "Tour:\n",
      "\n",
      "x[Rot,Gro,2] = 1.0\n",
      "x[Hag,Til,2] = 1.0\n",
      "x[Gro,Ams,2] = 1.0\n",
      "x[Ams,Hag,2] = 1.0\n",
      "x[Til,Rot,2] = 1.0\n",
      "x[Ams,Ein,3] = 1.0\n",
      "x[Ein,Ams,3] = 1.0\n",
      "x[Utr,Ams,5] = 1.0\n",
      "x[Ams,Utr,5] = 1.0\n",
      "\n",
      "Accumulated demand:\n",
      "\n",
      "u[Rot,1] = 39.0\n",
      "u[Rot,2] = 34.0\n",
      "u[Rot,3] = 14.0\n",
      "u[Rot,4] = 14.0\n",
      "u[Rot,5] = 14.0\n",
      "u[Hag,1] = 3.0\n",
      "u[Hag,2] = 5.0\n",
      "u[Hag,3] = 3.0\n",
      "u[Hag,4] = 3.0\n",
      "u[Hag,5] = 3.0\n",
      "u[Gro,1] = 39.0\n",
      "u[Gro,2] = 39.0\n",
      "u[Gro,3] = 5.0\n",
      "u[Gro,4] = 5.0\n",
      "u[Gro,5] = 5.0\n",
      "u[Utr,1] = 6.0\n",
      "u[Utr,2] = 6.0\n",
      "u[Utr,3] = 6.0\n",
      "u[Utr,4] = 6.0\n",
      "u[Utr,5] = 6.0\n",
      "u[Ein,1] = 39.0\n",
      "u[Ein,2] = 39.0\n",
      "u[Ein,3] = 16.0\n",
      "u[Ein,4] = 16.0\n",
      "u[Ein,5] = 16.0\n",
      "u[Til,1] = 15.0\n",
      "u[Til,2] = 20.0\n",
      "u[Til,3] = 15.0\n",
      "u[Til,4] = 15.0\n",
      "u[Til,5] = 15.0\n"
     ]
    }
   ],
   "source": [
    "print(\"Tour:\\n\")\n",
    "for k in model.K:\n",
    "    for i in model.N:\n",
    "        for j in model.N:\n",
    "            if(pe.value(model.x[i,j,k]) > 0):\n",
    "                print(str(model.x[i,j,k]) + \" = \" + str(pe.value(model.x[i,j,k])))\n",
    "\n",
    "print(\"\\nAccumulated demand:\\n\")\n",
    "for i in model.N:\n",
    "    for k in model.K:\n",
    "        if(pe.value(model.u[i,k]) > 0):\n",
    "            print(str(model.u[i,k]) + \" = \" + str(pe.value(model.u[i,k])))\n",
    "            \n"
   ]
  },
  {
   "cell_type": "code",
   "execution_count": null,
   "metadata": {},
   "outputs": [],
   "source": []
  },
  {
   "cell_type": "code",
   "execution_count": null,
   "metadata": {},
   "outputs": [],
   "source": []
  }
 ],
 "metadata": {
  "kernelspec": {
   "display_name": "Python 3",
   "language": "python",
   "name": "python3"
  },
  "language_info": {
   "codemirror_mode": {
    "name": "ipython",
    "version": 3
   },
   "file_extension": ".py",
   "mimetype": "text/x-python",
   "name": "python",
   "nbconvert_exporter": "python",
   "pygments_lexer": "ipython3",
   "version": "3.8.3"
  }
 },
 "nbformat": 4,
 "nbformat_minor": 4
}
