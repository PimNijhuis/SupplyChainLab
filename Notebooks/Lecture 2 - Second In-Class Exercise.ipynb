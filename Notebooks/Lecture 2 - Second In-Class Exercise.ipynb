{
 "cells": [
  {
   "cell_type": "markdown",
   "metadata": {},
   "source": [
    "# Lecture 2 - Second in-class exercise\n",
    "## Implement and solve the following model. You may find the _modulo operator_ (%) useful.\n",
    "## $$\n",
    "\\\\\n",
    "\\begin{alignat*}{3}\n",
    "\\max \\; & \\sum_{i=0}^{20} i x_i & \\\\\n",
    "\\text{s.t.} \\;  & \\sum_{i=0}^{15} x_i \\geq 10 & \\\\\n",
    "        & \\sum_{i \\in \\{1,3,5,7,9,11,13,15\\}} x_i \\geq 7 & \\\\\n",
    "        & \\sum_{i=0}^{20} x_i \\leq 10 & \\\\\n",
    "        & x_i \\in \\{0,1\\} & i =0,1,\\ldots,20\n",
    "\\end{alignat*}\n",
    "$$"
   ]
  },
  {
   "cell_type": "code",
   "execution_count": 1,
   "metadata": {},
   "outputs": [],
   "source": [
    "##Import packages \n",
    "import pyomo.environ as pe\n",
    "import pyomo.opt as po"
   ]
  },
  {
   "cell_type": "code",
   "execution_count": 2,
   "metadata": {},
   "outputs": [],
   "source": [
    "#Declare the model\n",
    "model = pe.ConcreteModel()"
   ]
  },
  {
   "cell_type": "code",
   "execution_count": 3,
   "metadata": {},
   "outputs": [],
   "source": [
    "#Declare our sets\n",
    "model.N = pe.RangeSet(0,20)"
   ]
  },
  {
   "cell_type": "code",
   "execution_count": 4,
   "metadata": {},
   "outputs": [],
   "source": [
    "#Variables\n",
    "model.x = pe.Var(model.N, domain=pe.Binary)"
   ]
  },
  {
   "cell_type": "code",
   "execution_count": 5,
   "metadata": {},
   "outputs": [
    {
     "name": "stdout",
     "output_type": "stream",
     "text": [
      "x[1] + 2*x[2] + 3*x[3] + 4*x[4] + 5*x[5] + 6*x[6] + 7*x[7] + 8*x[8] + 9*x[9] + 10*x[10] + 11*x[11] + 12*x[12] + 13*x[13] + 14*x[14] + 15*x[15] + 16*x[16] + 17*x[17] + 18*x[18] + 19*x[19] + 20*x[20]\n"
     ]
    }
   ],
   "source": [
    "#Objective function\n",
    "obj_expr = sum(model.x[i] * i for i in model.N)\n",
    "print(obj_expr)\n",
    "model.obj = pe.Objective(expr = obj_expr, sense = pe.maximize)"
   ]
  },
  {
   "cell_type": "code",
   "execution_count": 6,
   "metadata": {},
   "outputs": [
    {
     "name": "stdout",
     "output_type": "stream",
     "text": [
      "10  <=  x[0] + x[1] + x[2] + x[3] + x[4] + x[5] + x[6] + x[7] + x[8] + x[9] + x[10] + x[11] + x[12] + x[13] + x[14] + x[15]\n",
      "7  <=  x[1] + x[3] + x[5] + x[7] + x[9] + x[11] + x[13] + x[15]\n",
      "x[0] + x[1] + x[2] + x[3] + x[4] + x[5] + x[6] + x[7] + x[8] + x[9] + x[10] + x[11] + x[12] + x[13] + x[14] + x[15] + x[16] + x[17] + x[18] + x[19] + x[20]  <=  10\n"
     ]
    }
   ],
   "source": [
    "#Constraints\n",
    "con1_expr = sum(model.x[i] for i in model.N if i <= 15) >= 10\n",
    "print(con1_expr)\n",
    "model.con1 = pe.Constraint(expr= con1_expr)\n",
    "###\n",
    "con2_expr = sum(model.x[i] for i in model.N if i % 2 != 0 and i <= 15)>= 7\n",
    "print(con2_expr)\n",
    "model.con2 = pe.Constraint(expr=con2_expr)\n",
    "##\n",
    "con3_expr = sum(model.x[i] for i in model.N) <= 10\n",
    "print(con3_expr)\n",
    "model.con3 = pe.Constraint(expr = con3_expr)"
   ]
  },
  {
   "cell_type": "code",
   "execution_count": 7,
   "metadata": {},
   "outputs": [
    {
     "name": "stdout",
     "output_type": "stream",
     "text": [
      "Set parameter Username\n",
      "Academic license - for non-commercial use only - expires 2022-12-10\n",
      "Read LP format model from file C:\\Users\\rpo330\\AppData\\Local\\Temp\\tmpmk26cthw.pyomo.lp\n",
      "Reading time = 0.01 seconds\n",
      "x22: 4 rows, 22 columns, 46 nonzeros\n",
      "Gurobi Optimizer version 9.5.0 build v9.5.0rc5 (win64)\n",
      "Thread count: 6 physical cores, 12 logical processors, using up to 12 threads\n",
      "Optimize a model with 4 rows, 22 columns and 46 nonzeros\n",
      "Model fingerprint: 0xf15f7659\n",
      "Variable types: 1 continuous, 21 integer (21 binary)\n",
      "Coefficient statistics:\n",
      "  Matrix range     [1e+00, 1e+00]\n",
      "  Objective range  [1e+00, 2e+01]\n",
      "  Bounds range     [1e+00, 1e+00]\n",
      "  RHS range        [1e+00, 1e+01]\n",
      "Found heuristic solution: objective 67.0000000\n",
      "Presolve removed 4 rows and 22 columns\n",
      "Presolve time: 0.00s\n",
      "Presolve: All rows and columns removed\n",
      "\n",
      "Explored 0 nodes (0 simplex iterations) in 0.00 seconds (0.00 work units)\n",
      "Thread count was 1 (of 12 available processors)\n",
      "\n",
      "Solution count 2: 99 67 \n",
      "\n",
      "Optimal solution found (tolerance 1.00e-04)\n",
      "Best objective 9.900000000000e+01, best bound 9.900000000000e+01, gap 0.0000%\n"
     ]
    }
   ],
   "source": [
    "#Import the solver\n",
    "solver = po.SolverFactory('gurobi')\n",
    "result = solver.solve(model, tee= True)"
   ]
  },
  {
   "cell_type": "code",
   "execution_count": 8,
   "metadata": {},
   "outputs": [
    {
     "name": "stdout",
     "output_type": "stream",
     "text": [
      "ok\n",
      "optimal\n"
     ]
    }
   ],
   "source": [
    "#Check if everything went well\n",
    "print(result.solver.status)\n",
    "print(result.solver.termination_condition)"
   ]
  },
  {
   "cell_type": "code",
   "execution_count": 9,
   "metadata": {},
   "outputs": [],
   "source": [
    "## Try to print the solution!"
   ]
  }
 ],
 "metadata": {
  "kernelspec": {
   "display_name": "Python 3",
   "language": "python",
   "name": "python3"
  },
  "language_info": {
   "codemirror_mode": {
    "name": "ipython",
    "version": 3
   },
   "file_extension": ".py",
   "mimetype": "text/x-python",
   "name": "python",
   "nbconvert_exporter": "python",
   "pygments_lexer": "ipython3",
   "version": "3.8.5"
  }
 },
 "nbformat": 4,
 "nbformat_minor": 4
}
