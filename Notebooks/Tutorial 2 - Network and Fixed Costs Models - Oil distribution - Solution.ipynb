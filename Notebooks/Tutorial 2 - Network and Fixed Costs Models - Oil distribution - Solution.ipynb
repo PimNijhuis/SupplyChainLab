{
 "cells": [
  {
   "cell_type": "code",
   "execution_count": 1,
   "metadata": {},
   "outputs": [],
   "source": [
    "import pyomo.environ as pe\n",
    "import pyomo.opt as po"
   ]
  },
  {
   "cell_type": "code",
   "execution_count": 2,
   "metadata": {},
   "outputs": [],
   "source": [
    "# Input data\n",
    "nodes = {'Well 1', 'Well 2', 'Mobile', 'Galveston', 'NY', 'LA'}\n",
    "connections = { \n",
    "            ('Well 1', 'Mobile'), ('Well 1', 'Galveston'), ('Well 1', 'NY'), ('Well 1','LA'),\n",
    "            ('Well 2', 'Mobile'), ('Well 2', 'Galveston'), ('Well 2', 'NY'), ('Well 2','LA'),\n",
    "            ('Mobile', 'Galveston'), ('Mobile', 'NY'), ('Mobile','LA'),\n",
    "            ('Galveston', 'Mobile'), ('Galveston', 'NY'), ('Galveston','LA'),\n",
    "    ('NY', 'LA'), \n",
    "    ('LA', 'NY')\n",
    "}\n",
    "shippingCost = {  ('Well 1', 'Mobile'): 3530, ('Well 1', 'Galveston'): 3420, ('Well 1', 'NY'): 3920, ('Well 1','LA'): 3710,\n",
    "            ('Well 2', 'Mobile'):1650 , ('Well 2', 'Galveston'):3580 , ('Well 2', 'NY'): 3840, ('Well 2','LA'):3620,\n",
    "            ('Mobile', 'Galveston'): 1200, ('Mobile', 'NY'): 1680, ('Mobile','LA'): 3740,\n",
    "            ('Galveston', 'Mobile'): 1500, ('Galveston', 'NY'): 3570, ('Galveston','LA'): 3650,\n",
    "    ('NY', 'LA'): 4120, \n",
    "    ('LA', 'NY'): 3980\n",
    "\n",
    "}\n",
    "\n",
    "productionNodes = { 'Well 1', 'Well 2'}\n",
    "transhipmentNodes = {'Mobile', 'Galveston'}\n",
    "demandNodes = {'NY', 'LA'}\n",
    "\n",
    "\n",
    "demand = { 'NY':160, 'LA': 140}\n",
    "prodCapacity = {'Well 1':150, 'Well 2': 200}\n",
    "\n"
   ]
  },
  {
   "cell_type": "code",
   "execution_count": 3,
   "metadata": {},
   "outputs": [],
   "source": [
    "model = pe.ConcreteModel()\n",
    "model.V = pe.Set(initialize = nodes, ordered = False)\n",
    "model.S = pe.Set(initialize = productionNodes, ordered = False)\n",
    "model.T = pe.Set(initialize = transhipmentNodes, ordered = False)\n",
    "model.D = pe.Set(initialize = demandNodes, ordered = False)\n",
    "model.A = pe.Set(initialize = connections, ordered = False)\n",
    "\n",
    "# decision variables\n",
    "model.x = pe.Var(model.A, domain = pe.NonNegativeIntegers)"
   ]
  },
  {
   "cell_type": "code",
   "execution_count": 4,
   "metadata": {},
   "outputs": [],
   "source": [
    "#Objective function\n",
    "exprObj = sum( model.x[i,j]* shippingCost[i,j] for (i,j) in model.A)\n",
    "model.obj = pe.Objective(expr = exprObj, sense = pe.minimize)\n",
    "#print(exprObj)"
   ]
  },
  {
   "cell_type": "code",
   "execution_count": 5,
   "metadata": {},
   "outputs": [],
   "source": [
    "# Production capacity constraints\n",
    "model.flowBalanceS = pe.ConstraintList()\n",
    "for i in model.S: \n",
    "    expression = sum(model.x[i,j] for j in model.V if((i,j) in model.A)) - \\\n",
    "    sum(model.x[j,i] for j in model.V if((j,i) in model.A)) <= prodCapacity[i]\n",
    "    #print(expression)\n",
    "    model.flowBalanceS.add(expression)\n",
    "\n",
    "# Satisty the deamnd at each node\n",
    "model.flowBalanceD = pe.ConstraintList()\n",
    "for i in model.D: \n",
    "    expression = sum(model.x[j,i] for j in model.V if((j,i) in model.A)) - \\\n",
    "    sum(model.x[i,j] for j in model.V if((i,j) in model.A)) == demand[i]\n",
    "    #print(expression)\n",
    "    model.flowBalanceD.add(expression) \n",
    "\n",
    "# Net balance at each transhipment node\n",
    "model.flowBalanceT = pe.ConstraintList()\n",
    "for i in model.T:\n",
    "    expression = sum(model.x[i,j] for j in model.V if((i,j) in model.A)) - \\\n",
    "    sum(model.x[j,i] for j in model.V if((j,i) in model.A)) == 0\n",
    "    #print(expression)\n",
    "    model.flowBalanceT.add(expression) \n"
   ]
  },
  {
   "cell_type": "code",
   "execution_count": 6,
   "metadata": {},
   "outputs": [
    {
     "name": "stdout",
     "output_type": "stream",
     "text": [
      "Set parameter Username\n",
      "Academic license - for non-commercial use only - expires 2022-12-10\n",
      "Read LP format model from file C:\\Users\\rpo330\\AppData\\Local\\Temp\\tmpltuuleno.pyomo.lp\n",
      "Reading time = 0.01 seconds\n",
      "x17: 7 rows, 17 columns, 33 nonzeros\n",
      "Gurobi Optimizer version 9.5.0 build v9.5.0rc5 (win64)\n",
      "Thread count: 6 physical cores, 12 logical processors, using up to 12 threads\n",
      "Optimize a model with 7 rows, 17 columns and 33 nonzeros\n",
      "Model fingerprint: 0x6f8dc982\n",
      "Variable types: 1 continuous, 16 integer (0 binary)\n",
      "Coefficient statistics:\n",
      "  Matrix range     [1e+00, 1e+00]\n",
      "  Objective range  [1e+03, 4e+03]\n",
      "  Bounds range     [0e+00, 0e+00]\n",
      "  RHS range        [1e+00, 2e+02]\n",
      "Found heuristic solution: objective 1133200.0000\n",
      "Presolve removed 1 rows and 1 columns\n",
      "Presolve time: 0.00s\n",
      "Presolved: 6 rows, 16 columns, 32 nonzeros\n",
      "Variable types: 0 continuous, 16 integer (0 binary)\n",
      "Found heuristic solution: objective 1133120.0000\n",
      "\n",
      "Root relaxation: objective 1.048600e+06, 5 iterations, 0.00 seconds (0.00 work units)\n",
      "\n",
      "    Nodes    |    Current Node    |     Objective Bounds      |     Work\n",
      " Expl Unexpl |  Obj  Depth IntInf | Incumbent    BestBd   Gap | It/Node Time\n",
      "\n",
      "*    0     0               0    1048600.0000 1048600.00  0.00%     -    0s\n",
      "\n",
      "Explored 1 nodes (5 simplex iterations) in 0.01 seconds (0.00 work units)\n",
      "Thread count was 12 (of 12 available processors)\n",
      "\n",
      "Solution count 3: 1.0486e+06 1.13312e+06 1.1332e+06 \n",
      "\n",
      "Optimal solution found (tolerance 1.00e-04)\n",
      "Best objective 1.048600000000e+06, best bound 1.048600000000e+06, gap 0.0000%\n"
     ]
    }
   ],
   "source": [
    "# Next line of code allows you to print the model in .lp format. A file \"OilDistribution.lp\" will \n",
    "# be genrated. Open the file with an editor to see the model. Useful if you want to check it.\n",
    "\n",
    "model.write(filename = \"OilDistribution.lp\", io_options = {\"symbolic_solver_labels\":True})\n",
    "\n",
    "solver = po.SolverFactory('gurobi')\n",
    "result = solver.solve(model, tee= True)"
   ]
  },
  {
   "cell_type": "code",
   "execution_count": 7,
   "metadata": {},
   "outputs": [
    {
     "name": "stdout",
     "output_type": "stream",
     "text": [
      "ok\n",
      "optimal\n",
      "1048600.0\n",
      "x[Mobile,NY] = 160.0\n",
      "x[Well 2,Mobile] = 160.0\n",
      "x[Well 1,LA] = 100.0\n",
      "x[Well 2,LA] = 40.0\n"
     ]
    }
   ],
   "source": [
    "print(result.solver.status)\n",
    "print(result.solver.termination_condition)\n",
    "print(pe.value(model.obj))\n",
    "for (i,j) in model.A: \n",
    "    if pe.value(model.x[i,j]) > 0:\n",
    "        print( str(model.x[i,j])+\" = \"+ str(pe.value(model.x[i,j])))"
   ]
  }
 ],
 "metadata": {
  "kernelspec": {
   "display_name": "Python 3",
   "language": "python",
   "name": "python3"
  },
  "language_info": {
   "codemirror_mode": {
    "name": "ipython",
    "version": 3
   },
   "file_extension": ".py",
   "mimetype": "text/x-python",
   "name": "python",
   "nbconvert_exporter": "python",
   "pygments_lexer": "ipython3",
   "version": "3.8.5"
  }
 },
 "nbformat": 4,
 "nbformat_minor": 4
}
