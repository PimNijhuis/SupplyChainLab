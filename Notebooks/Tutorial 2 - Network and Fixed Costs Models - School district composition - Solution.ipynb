{
 "cells": [
  {
   "cell_type": "code",
   "execution_count": 1,
   "metadata": {},
   "outputs": [],
   "source": [
    "#Import pyomo\n",
    "import pyomo.environ as pe\n",
    "import pyomo.opt as po"
   ]
  },
  {
   "cell_type": "code",
   "execution_count": 2,
   "metadata": {},
   "outputs": [],
   "source": [
    "# Data\n",
    "#District\n",
    "D = {1,2,3}\n",
    "S = {'Female', 'Male'}\n",
    "# Female and male students for each district\n",
    "f = {1: 210, 2: 210, 3:180}\n",
    "m = {1: 120, 2: 30, 3:150}\n",
    "#Distances between districs\n",
    "d = {(1,1): 0, (1,2): 3, (1,3):5,\n",
    "    (2,1):3, (2,2): 0, (2,3):4,\n",
    "     (3,1):5 , (3,2):4, (3,3):0\n",
    "    }"
   ]
  },
  {
   "cell_type": "code",
   "execution_count": 3,
   "metadata": {},
   "outputs": [],
   "source": [
    "# model and sets\n",
    "model = pe.ConcreteModel()\n",
    "model.D = pe.Set(initialize = D, ordered = False)\n",
    "model.S = pe.Set(initialize = S, ordered = False)"
   ]
  },
  {
   "cell_type": "code",
   "execution_count": 4,
   "metadata": {},
   "outputs": [],
   "source": [
    "## Decision variables\n",
    "model.x = pe.Var(model.D, model.D, model.S, domain = pe.NonNegativeIntegers)"
   ]
  },
  {
   "cell_type": "code",
   "execution_count": 5,
   "metadata": {},
   "outputs": [],
   "source": [
    "## Objective function\n",
    "objExpr = sum(model.x[i,j,s] * d[i,j] for i in model.D for j in model.D for s in model.S )\n",
    "model.obj = pe.Objective(expr = objExpr, sense = pe.minimize)"
   ]
  },
  {
   "cell_type": "code",
   "execution_count": 6,
   "metadata": {},
   "outputs": [],
   "source": [
    "## Constraints\n",
    "\n",
    "#First set of constraints\n",
    "model.conList1 = pe.ConstraintList()\n",
    "for i in model.D: \n",
    "    expr = sum(model.x[i,j,'Female']  for j in model.D) == f[i]\n",
    "    model.conList1.add(expr)\n",
    "\n",
    "#Second set of constraints\n",
    "model.conList2 = pe.ConstraintList()\n",
    "for i in model.D: \n",
    "    expr = sum(model.x[i,j,'Male']  for j in model.D) == m[i]\n",
    "    model.conList2.add(expr)\n",
    "\n",
    "# Third set of constraints\n",
    "model.conList3 = pe.ConstraintList()\n",
    "for j in model.D:\n",
    "    expr = sum(model.x[i,j,k] for i in model.D for k in model.S) == sum(f[i] + m[i] for i in model.D) / len(model.D)\n",
    "    model.conList3.add(expr)\n",
    "\n",
    "#Fourth set of constraints\n",
    "model.conList4 = pe.ConstraintList()\n",
    "for j in model.D: \n",
    "    expr = sum (model.x[i,j,'Male'] for i in model.D) == sum(m[i] for i in model.D) / len(model.D)\n",
    "    model.conList4.add(expr)"
   ]
  },
  {
   "cell_type": "code",
   "execution_count": 7,
   "metadata": {},
   "outputs": [
    {
     "name": "stdout",
     "output_type": "stream",
     "text": [
      "Set parameter Username\n",
      "Academic license - for non-commercial use only - expires 2022-12-10\n",
      "Read LP format model from file C:\\Users\\rpo330\\AppData\\Local\\Temp\\tmp2nla26uf.pyomo.lp\n",
      "Reading time = 0.00 seconds\n",
      "x19: 13 rows, 19 columns, 46 nonzeros\n",
      "Gurobi Optimizer version 9.5.0 build v9.5.0rc5 (win64)\n",
      "Thread count: 6 physical cores, 12 logical processors, using up to 12 threads\n",
      "Optimize a model with 13 rows, 19 columns and 46 nonzeros\n",
      "Model fingerprint: 0x69a380fc\n",
      "Variable types: 1 continuous, 18 integer (0 binary)\n",
      "Coefficient statistics:\n",
      "  Matrix range     [1e+00, 1e+00]\n",
      "  Objective range  [3e+00, 5e+00]\n",
      "  Bounds range     [0e+00, 0e+00]\n",
      "  RHS range        [1e+00, 3e+02]\n",
      "Found heuristic solution: objective 1870.0000000\n",
      "Presolve removed 7 rows and 10 columns\n",
      "Presolve time: 0.00s\n",
      "Presolved: 6 rows, 9 columns, 18 nonzeros\n",
      "Found heuristic solution: objective 710.0000000\n",
      "Variable types: 0 continuous, 9 integer (0 binary)\n",
      "\n",
      "Root relaxation: objective 3.500000e+02, 2 iterations, 0.00 seconds (0.00 work units)\n",
      "\n",
      "    Nodes    |    Current Node    |     Objective Bounds      |     Work\n",
      " Expl Unexpl |  Obj  Depth IntInf | Incumbent    BestBd   Gap | It/Node Time\n",
      "\n",
      "*    0     0               0     350.0000000  350.00000  0.00%     -    0s\n",
      "\n",
      "Explored 1 nodes (2 simplex iterations) in 0.00 seconds (0.00 work units)\n",
      "Thread count was 12 (of 12 available processors)\n",
      "\n",
      "Solution count 3: 350 710 1870 \n",
      "\n",
      "Optimal solution found (tolerance 1.00e-04)\n",
      "Best objective 3.500000000000e+02, best bound 3.500000000000e+02, gap 0.0000%\n"
     ]
    }
   ],
   "source": [
    "solver = po.SolverFactory('gurobi')\n",
    "result = solver.solve(model, tee = True)"
   ]
  },
  {
   "cell_type": "code",
   "execution_count": 8,
   "metadata": {},
   "outputs": [
    {
     "name": "stdout",
     "output_type": "stream",
     "text": [
      "x[1,1,Female] = 200.0\n",
      "x[1,1,Male] = 100.0\n",
      "x[1,2,Male] = 20.0\n",
      "x[1,3,Female] = 10.0\n",
      "x[2,2,Female] = 200.0\n",
      "x[2,2,Male] = 30.0\n",
      "x[2,3,Female] = 10.0\n",
      "x[3,2,Male] = 50.0\n",
      "x[3,3,Female] = 180.0\n",
      "x[3,3,Male] = 100.0\n"
     ]
    }
   ],
   "source": [
    "for i in model.D:\n",
    "     for j in model.D:\n",
    "            for s in model.S:\n",
    "                if pe.value(model.x[i,j,s]) > 0:\n",
    "                    print(str(model.x[i,j,s])+\" = \"+ str(pe.value(model.x[i,j,s])))"
   ]
  }
 ],
 "metadata": {
  "kernelspec": {
   "display_name": "Python 3",
   "language": "python",
   "name": "python3"
  },
  "language_info": {
   "codemirror_mode": {
    "name": "ipython",
    "version": 3
   },
   "file_extension": ".py",
   "mimetype": "text/x-python",
   "name": "python",
   "nbconvert_exporter": "python",
   "pygments_lexer": "ipython3",
   "version": "3.8.5"
  }
 },
 "nbformat": 4,
 "nbformat_minor": 4
}
