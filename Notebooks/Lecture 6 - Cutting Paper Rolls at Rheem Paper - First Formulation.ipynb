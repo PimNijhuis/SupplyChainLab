{
 "cells": [
  {
   "cell_type": "code",
   "execution_count": 1,
   "metadata": {},
   "outputs": [],
   "source": [
    "#Data\n",
    "numSizes = 5\n",
    "maxNumRolls = 94\n",
    "width = {1:15, 2:20, 3:24, 4:30, 5:40}\n",
    "demand = {1:19, 2:22, 3:32, 4:14,5:7}"
   ]
  },
  {
   "cell_type": "code",
   "execution_count": 2,
   "metadata": {},
   "outputs": [],
   "source": [
    "import pyomo.environ as pe\n",
    "import pyomo.opt as po"
   ]
  },
  {
   "cell_type": "code",
   "execution_count": 3,
   "metadata": {},
   "outputs": [],
   "source": [
    "model = pe.ConcreteModel()"
   ]
  },
  {
   "cell_type": "code",
   "execution_count": 4,
   "metadata": {},
   "outputs": [],
   "source": [
    "model.S = pe.RangeSet(1, numSizes)\n",
    "model.R = pe.RangeSet(1, maxNumRolls)"
   ]
  },
  {
   "cell_type": "code",
   "execution_count": 5,
   "metadata": {},
   "outputs": [],
   "source": [
    "model.x = pe.Var(model.S, model.R, domain = pe.NonNegativeIntegers)\n",
    "model.y = pe.Var(model.R, domain =pe.Binary)"
   ]
  },
  {
   "cell_type": "code",
   "execution_count": 6,
   "metadata": {},
   "outputs": [],
   "source": [
    "objExpr = sum(model.y[r] for r in model.R)\n",
    "model.obj = pe.Objective(expr = objExpr, sense = pe.minimize)"
   ]
  },
  {
   "cell_type": "code",
   "execution_count": 7,
   "metadata": {},
   "outputs": [],
   "source": [
    "## Constraints\n",
    "model.cnstrR = pe.ConstraintList()\n",
    "for r in model.R:\n",
    "    expression = sum(model.x[s,r] *width[s] for s in model.S) <= 60 * model.y[r]\n",
    "    model.cnstrR.add(expression)\n",
    "\n",
    "model.cnstrS = pe.ConstraintList()\n",
    "for s in model.S: \n",
    "    expression = sum(model.x[s,r] for r in model.R) >= demand[s]\n",
    "    model.cnstrS.add(expression)\n"
   ]
  },
  {
   "cell_type": "code",
   "execution_count": 8,
   "metadata": {},
   "outputs": [
    {
     "name": "stdout",
     "output_type": "stream",
     "text": [
      "Set parameter Username\n",
      "Academic license - for non-commercial use only - expires 2022-12-10\n",
      "Read LP format model from file C:\\Users\\rpo330\\AppData\\Local\\Temp\\tmp199kf8rk.pyomo.lp\n",
      "Reading time = 0.01 seconds\n",
      "x565: 100 rows, 565 columns, 1035 nonzeros\n",
      "Set parameter TimeLimit to value 3\n",
      "Gurobi Optimizer version 9.5.0 build v9.5.0rc5 (win64)\n",
      "Thread count: 6 physical cores, 12 logical processors, using up to 12 threads\n",
      "Optimize a model with 100 rows, 565 columns and 1035 nonzeros\n",
      "Model fingerprint: 0xe6dc3004\n",
      "Variable types: 1 continuous, 564 integer (94 binary)\n",
      "Coefficient statistics:\n",
      "  Matrix range     [1e+00, 6e+01]\n",
      "  Objective range  [1e+00, 1e+00]\n",
      "  Bounds range     [1e+00, 1e+00]\n",
      "  RHS range        [1e+00, 3e+01]\n",
      "Presolve removed 1 rows and 1 columns\n",
      "Presolve time: 0.00s\n",
      "Presolved: 99 rows, 564 columns, 1034 nonzeros\n",
      "Variable types: 0 continuous, 564 integer (188 binary)\n",
      "Found heuristic solution: objective 42.0000000\n",
      "\n",
      "Root relaxation: objective 3.708333e+01, 196 iterations, 0.00 seconds (0.00 work units)\n",
      "\n",
      "    Nodes    |    Current Node    |     Objective Bounds      |     Work\n",
      " Expl Unexpl |  Obj  Depth IntInf | Incumbent    BestBd   Gap | It/Node Time\n",
      "\n",
      "     0     0   37.08333    0   26   42.00000   37.08333  11.7%     -    0s\n",
      "H    0     0                      41.0000000   37.08333  9.55%     -    0s\n",
      "H    0     0                      40.0000000   37.08333  7.29%     -    0s\n",
      "     0     0   37.08333    0   39   40.00000   37.08333  7.29%     -    0s\n",
      "     0     0   37.08333    0   32   40.00000   37.08333  7.29%     -    0s\n",
      "     0     0   37.08333    0   14   40.00000   37.08333  7.29%     -    0s\n",
      "H    0     0                      39.0000000   37.08333  4.91%     -    0s\n",
      "     0     0   37.08333    0   21   39.00000   37.08333  4.91%     -    0s\n",
      "     0     0   37.08333    0   21   39.00000   37.08333  4.91%     -    0s\n",
      "     0     0   37.08333    0   21   39.00000   37.08333  4.91%     -    0s\n",
      "     0     2   37.08333    0   17   39.00000   37.08333  4.91%     -    0s\n",
      "\n",
      "Explored 28088 nodes (172446 simplex iterations) in 3.01 seconds (4.13 work units)\n",
      "Thread count was 12 (of 12 available processors)\n",
      "\n",
      "Solution count 6: 39 40 41 ... 53\n",
      "\n",
      "Time limit reached\n",
      "Best objective 3.900000000000e+01, best bound 3.800000000000e+01, gap 2.5641%\n",
      "WARNING: Loading a SolverResults object with an 'aborted' status, but\n",
      "    containing a solution\n"
     ]
    }
   ],
   "source": [
    "solver = po.SolverFactory('gurobi')\n",
    "result = solver.solve(model, tee = True, options={'TimeLimit': 3})"
   ]
  },
  {
   "cell_type": "code",
   "execution_count": 9,
   "metadata": {},
   "outputs": [
    {
     "name": "stdout",
     "output_type": "stream",
     "text": [
      "aborted\n",
      "maxTimeLimit\n"
     ]
    }
   ],
   "source": [
    "print(result.solver.status)\n",
    "print(result.solver.termination_condition)"
   ]
  },
  {
   "cell_type": "code",
   "execution_count": 10,
   "metadata": {},
   "outputs": [
    {
     "name": "stdout",
     "output_type": "stream",
     "text": [
      "Objective value = 39.0\n",
      "Rolls:\n",
      "y[1] = 1.0\n",
      "y[2] = 1.0\n",
      "y[3] = 1.0\n",
      "y[4] = 1.0\n",
      "y[5] = 1.0\n",
      "y[6] = 1.0\n",
      "y[7] = 1.0\n",
      "y[8] = 1.0\n",
      "y[9] = 1.0\n",
      "y[10] = 1.0\n",
      "y[11] = 1.0\n",
      "y[12] = 1.0\n",
      "y[13] = 1.0\n",
      "y[14] = 1.0\n",
      "y[15] = 1.0\n",
      "y[16] = 1.0\n",
      "y[17] = 1.0\n",
      "y[18] = 1.0\n",
      "y[19] = 1.0\n",
      "y[20] = 1.0\n",
      "y[21] = 1.0\n",
      "y[24] = 1.0\n",
      "y[26] = 1.0\n",
      "y[45] = 1.0\n",
      "y[48] = 1.0\n",
      "y[49] = 1.0\n",
      "y[52] = 1.0\n",
      "y[62] = 1.0\n",
      "y[63] = 1.0\n",
      "y[67] = 1.0\n",
      "y[68] = 1.0\n",
      "y[70] = 1.0\n",
      "y[76] = 1.0\n",
      "y[78] = 1.0\n",
      "y[81] = 1.0\n",
      "y[83] = 1.0\n",
      "y[86] = 1.0\n",
      "y[89] = 1.0\n",
      "y[92] = 1.0\n",
      "Sizes\n",
      "x[1,1] = 2.0\n",
      "x[1,2] = 1.0\n",
      "x[1,3] = 1.0\n",
      "x[1,4] = 1.0\n",
      "x[1,5] = 2.0\n",
      "x[1,11] = 1.0\n",
      "x[1,12] = 1.0\n",
      "x[1,13] = 1.0\n",
      "x[1,15] = 1.0\n",
      "x[1,16] = 1.0\n",
      "x[1,17] = 1.0\n",
      "x[1,18] = 1.0\n",
      "x[1,19] = 1.0\n",
      "x[1,20] = 2.0\n",
      "x[1,21] = 1.0\n",
      "x[1,83] = 1.0\n",
      "x[2,3] = 1.0\n",
      "x[2,4] = 1.0\n",
      "x[2,6] = 1.0\n",
      "x[2,7] = 3.0\n",
      "x[2,8] = 1.0\n",
      "x[2,9] = 1.0\n",
      "x[2,11] = 1.0\n",
      "x[2,12] = 1.0\n",
      "x[2,13] = 1.0\n",
      "x[2,15] = 1.0\n",
      "x[2,16] = 1.0\n",
      "x[2,17] = 1.0\n",
      "x[2,18] = 1.0\n",
      "x[2,19] = 1.0\n",
      "x[2,21] = 1.0\n",
      "x[2,48] = 1.0\n",
      "x[2,52] = 1.0\n",
      "x[2,89] = 3.0\n",
      "x[3,3] = 1.0\n",
      "x[3,4] = 1.0\n",
      "x[3,10] = 2.0\n",
      "x[3,11] = 1.0\n",
      "x[3,12] = 1.0\n",
      "x[3,13] = 1.0\n",
      "x[3,14] = 2.0\n",
      "x[3,15] = 1.0\n",
      "x[3,16] = 1.0\n",
      "x[3,17] = 1.0\n",
      "x[3,18] = 1.0\n",
      "x[3,19] = 1.0\n",
      "x[3,20] = 1.0\n",
      "x[3,21] = 1.0\n",
      "x[3,45] = 2.0\n",
      "x[3,49] = 2.0\n",
      "x[3,62] = 2.0\n",
      "x[3,68] = 2.0\n",
      "x[3,76] = 2.0\n",
      "x[3,78] = 2.0\n",
      "x[3,86] = 2.0\n",
      "x[3,92] = 2.0\n",
      "x[4,1] = 1.0\n",
      "x[4,5] = 1.0\n",
      "x[4,24] = 2.0\n",
      "x[4,26] = 2.0\n",
      "x[4,63] = 2.0\n",
      "x[4,67] = 2.0\n",
      "x[4,70] = 2.0\n",
      "x[4,81] = 2.0\n",
      "x[5,2] = 1.0\n",
      "x[5,6] = 1.0\n",
      "x[5,8] = 1.0\n",
      "x[5,9] = 1.0\n",
      "x[5,48] = 1.0\n",
      "x[5,52] = 1.0\n",
      "x[5,83] = 1.0\n"
     ]
    }
   ],
   "source": [
    "print(\"Objective value = \"+ str(pe.value(model.obj)))\n",
    "\n",
    "print(\"Rolls:\")\n",
    "for r in model.R:\n",
    "    if(pe.value(model.y[r]) > 0):\n",
    "        print(str(model.y[r]) + \" = \" + str(pe.value(model.y[r])))\n",
    "\n",
    "print(\"Sizes\")\n",
    "for s in model.S:\n",
    "    for r in model.R:\n",
    "        if(pe.value(model.x[s,r]) > 0):\n",
    "            print(str(model.x[s,r]) + \" = \" + str(pe.value(model.x[s,r])))"
   ]
  }
 ],
 "metadata": {
  "kernelspec": {
   "display_name": "Python 3",
   "language": "python",
   "name": "python3"
  },
  "language_info": {
   "codemirror_mode": {
    "name": "ipython",
    "version": 3
   },
   "file_extension": ".py",
   "mimetype": "text/x-python",
   "name": "python",
   "nbconvert_exporter": "python",
   "pygments_lexer": "ipython3",
   "version": "3.8.5"
  }
 },
 "nbformat": 4,
 "nbformat_minor": 4
}
