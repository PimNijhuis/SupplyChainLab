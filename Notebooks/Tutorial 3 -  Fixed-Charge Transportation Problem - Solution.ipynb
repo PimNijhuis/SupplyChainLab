{
 "cells": [
  {
   "cell_type": "code",
   "execution_count": 1,
   "metadata": {},
   "outputs": [],
   "source": [
    "warehouses = {'A', 'B', 'C'}\n",
    "numShops = 4\n",
    "#Fixed transp cost\n",
    "f = {('A', 1): 2000, ('A', 2):2500 ,  ('A', 3):1200, ('A', 4):5000 ,\n",
    "                           ('B', 1):1000 , ('B', 2):2600 ,  ('B', 3):1500, ('B', 4):3000 ,\n",
    "                            ('C', 1):900 , ('C', 2):2700 ,  ('C', 3):1100, ('C', 4): 1000 }\n",
    "\n",
    "# Unit variable cost\n",
    "c = {('A', 1): 3, ('A', 2):5 ,  ('A', 3):8, ('A', 4):10 ,\n",
    "                           ('B', 1):11 , ('B', 2):12 ,  ('B', 3):6, ('B', 4):7 ,\n",
    "                            ('C', 1):15 , ('C', 2):13 ,  ('C', 3):12, ('C', 4): 9 }\n",
    "\n",
    "#Annual capacity for each warehouse\n",
    "q = {'A':150, 'B':250, 'C':300}\n",
    "# Annual demand for each shop\n",
    "d = {1:110, 2:135, 3:195, 4:240}"
   ]
  },
  {
   "cell_type": "code",
   "execution_count": 2,
   "metadata": {},
   "outputs": [],
   "source": [
    "import pyomo.environ as pe\n",
    "import pyomo.opt as po"
   ]
  },
  {
   "cell_type": "code",
   "execution_count": 3,
   "metadata": {},
   "outputs": [],
   "source": [
    "model = pe.ConcreteModel()\n",
    "model.W = pe.Set(initialize = warehouses, ordered = False)\n",
    "model.S = pe.RangeSet(1, numShops)"
   ]
  },
  {
   "cell_type": "code",
   "execution_count": 4,
   "metadata": {},
   "outputs": [],
   "source": [
    "model.x = pe.Var(model.W, model.S, domain = pe.NonNegativeIntegers)\n",
    "model.y = pe.Var(model.W, model.S, domain = pe.Binary)"
   ]
  },
  {
   "cell_type": "code",
   "execution_count": 5,
   "metadata": {},
   "outputs": [],
   "source": [
    "objExpr = sum (model.x[w,s] * c[w,s] + model.y[w,s] * f[w,s]  for w in model.W for s in model.S)\n",
    "model.obj = pe.Objective(expr = objExpr)"
   ]
  },
  {
   "cell_type": "code",
   "execution_count": 6,
   "metadata": {},
   "outputs": [],
   "source": [
    "#Capacity constraints\n",
    "model.conCapacity = pe.ConstraintList()\n",
    "for w in model.W: \n",
    "    expr = sum(model.x[w,s]  for s in model.S)  <= q[w]\n",
    "    model.conCapacity.add(expr)\n",
    "\n",
    "#Demand constraints    \n",
    "model.conDemand = pe.ConstraintList()\n",
    "for s in model.S: \n",
    "    expr = sum(model.x[w,s]  for w in model.W)  == d[s]\n",
    "    model.conDemand.add(expr)\n",
    "#BigM constraints\n",
    "model.conBigM = pe.ConstraintList()\n",
    "for w in model.W:\n",
    "    for s in model.S:\n",
    "        expression = model.x[w,s] <= min(d[s], q[w]) * model.y[w,s]\n",
    "        model.conBigM.add(expression)"
   ]
  },
  {
   "cell_type": "code",
   "execution_count": 7,
   "metadata": {},
   "outputs": [
    {
     "name": "stdout",
     "output_type": "stream",
     "text": [
      "Set parameter Username\n",
      "Academic license - for non-commercial use only - expires 2022-12-10\n",
      "Read LP format model from file C:\\Users\\rpo330\\AppData\\Local\\Temp\\tmp1h99gr3k.pyomo.lp\n",
      "Reading time = 0.01 seconds\n",
      "x25: 20 rows, 25 columns, 49 nonzeros\n",
      "Gurobi Optimizer version 9.5.0 build v9.5.0rc5 (win64)\n",
      "Thread count: 6 physical cores, 12 logical processors, using up to 12 threads\n",
      "Optimize a model with 20 rows, 25 columns and 49 nonzeros\n",
      "Model fingerprint: 0x1ed0914c\n",
      "Variable types: 1 continuous, 24 integer (12 binary)\n",
      "Coefficient statistics:\n",
      "  Matrix range     [1e+00, 2e+02]\n",
      "  Objective range  [3e+00, 5e+03]\n",
      "  Bounds range     [1e+00, 1e+00]\n",
      "  RHS range        [1e+00, 3e+02]\n",
      "Found heuristic solution: objective 18685.000000\n",
      "Presolve removed 1 rows and 1 columns\n",
      "Presolve time: 0.01s\n",
      "Presolved: 19 rows, 24 columns, 48 nonzeros\n",
      "Variable types: 0 continuous, 24 integer (12 binary)\n",
      "Found heuristic solution: objective 18677.000000\n",
      "\n",
      "Root relaxation: objective 1.135500e+04, 19 iterations, 0.00 seconds (0.00 work units)\n",
      "\n",
      "    Nodes    |    Current Node    |     Objective Bounds      |     Work\n",
      " Expl Unexpl |  Obj  Depth IntInf | Incumbent    BestBd   Gap | It/Node Time\n",
      "\n",
      "     0     0 11355.0000    0    3 18677.0000 11355.0000  39.2%     -    0s\n",
      "H    0     0                    14155.000000 11355.0000  19.8%     -    0s\n",
      "H    0     0                    12645.000000 11355.0000  10.2%     -    0s\n",
      "H    0     0                    12335.000000 12322.5000  0.10%     -    0s\n",
      "     0     0 12335.0000    0    7 12335.0000 12335.0000  0.00%     -    0s\n",
      "\n",
      "Cutting planes:\n",
      "  Gomory: 3\n",
      "  Implied bound: 1\n",
      "  Flow cover: 3\n",
      "  Network: 1\n",
      "\n",
      "Explored 1 nodes (27 simplex iterations) in 0.04 seconds (0.00 work units)\n",
      "Thread count was 12 (of 12 available processors)\n",
      "\n",
      "Solution count 5: 12335 12645 14155 ... 18685\n",
      "\n",
      "Optimal solution found (tolerance 1.00e-04)\n",
      "Best objective 1.233500000000e+04, best bound 1.233500000000e+04, gap 0.0000%\n"
     ]
    }
   ],
   "source": [
    "solver = po.SolverFactory('gurobi')\n",
    "result = solver.solve(model, tee = True)"
   ]
  },
  {
   "cell_type": "code",
   "execution_count": 8,
   "metadata": {},
   "outputs": [
    {
     "name": "stdout",
     "output_type": "stream",
     "text": [
      "ok\n",
      "optimal\n"
     ]
    }
   ],
   "source": [
    "print(result.solver.status)\n",
    "print(result.solver.termination_condition)"
   ]
  },
  {
   "cell_type": "code",
   "execution_count": 9,
   "metadata": {},
   "outputs": [
    {
     "name": "stdout",
     "output_type": "stream",
     "text": [
      "Total cost = 12335.0\n",
      "Optimal solution:\n",
      "y[C,1] = 1.0\n",
      "x[C,1] = 55.0\n",
      "y[C,4] = 1.0\n",
      "x[C,4] = 240.0\n",
      "y[A,2] = 1.0\n",
      "x[A,2] = 135.0\n",
      "y[B,1] = 1.0\n",
      "x[B,1] = 55.0\n",
      "y[B,3] = 1.0\n",
      "x[B,3] = 195.0\n"
     ]
    }
   ],
   "source": [
    "print(\"Total cost = \"+ str(pe.value(model.obj)))\n",
    "print(\"Optimal solution:\")\n",
    "for w in model.W: \n",
    "    for s in model.S:\n",
    "        if(pe.value(model.y[w,s]) > 0):\n",
    "            print(str(model.y[w,s])+\" = \"+str(pe.value(model.y[w,s])))\n",
    "        if(pe.value(model.x[w,s]) > 0):\n",
    "             print(str(model.x[w,s])+\" = \"+str(pe.value(model.x[w,s])))"
   ]
  }
 ],
 "metadata": {
  "kernelspec": {
   "display_name": "Python 3",
   "language": "python",
   "name": "python3"
  },
  "language_info": {
   "codemirror_mode": {
    "name": "ipython",
    "version": 3
   },
   "file_extension": ".py",
   "mimetype": "text/x-python",
   "name": "python",
   "nbconvert_exporter": "python",
   "pygments_lexer": "ipython3",
   "version": "3.8.5"
  }
 },
 "nbformat": 4,
 "nbformat_minor": 4
}
