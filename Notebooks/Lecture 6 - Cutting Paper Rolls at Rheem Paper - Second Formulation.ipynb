{
 "cells": [
  {
   "cell_type": "code",
   "execution_count": 1,
   "metadata": {},
   "outputs": [],
   "source": [
    "#Data\n",
    "numSizes = 5\n",
    "numPatterns = 13\n",
    "#maxNumRolls = 94\n",
    "#width = {1:15, 2:20, 3:24, 4:30, 5:40}\n",
    "demand = {1:19, 2:22, 3:32, 4:14,5:7}\n",
    "a = { (1,1):4, (1,2):0, (1,3):0 ,(1,4):0, (1,5):0 ,\n",
    "(2,1):2, (2,2):1, (2,3):0, (2,4):0, (2,5):0,\n",
    "(3,1):2, (3,2):0, (3,3):1, (3,4):0, (3,5):0,\n",
    "(4,1):2, (4,2):0, (4,3):0, (4,4):1, (4,5):0,\n",
    "(5,1):1, (5,2):2, (5,3):0, (5,4):0, (5,5):0,\n",
    "(6,1):1, (6,2):1, (6,3):1, (6,4):0, (6,5):0,\n",
    "(7,1):1, (7,2):0, (7,3):0, (7,4):0, (7,5):1,\n",
    "(8,1):0, (8,2):3, (8,3):0, (8,4):0, (8,5):0,\n",
    "(9,1):0, (9,2):1, (9,3):0, (9,4):1, (9,5):0,\n",
    "(10,1):0, (10,2):1, (10,3):0, (10,4):0, (10,5):1,\n",
    "(11,1):0, (11,2):0, (11,3):2, (11,4):0, (11,5):0,                   \n",
    "(12,1):0, (12,2):0, (12,3):1, (12,4):1, (12,5):0, \n",
    "(13,1):0, (13,2):0, (13,3):0, (13,4):2, (13,5):0}"
   ]
  },
  {
   "cell_type": "code",
   "execution_count": 2,
   "metadata": {},
   "outputs": [],
   "source": [
    "import pyomo.environ as pe\n",
    "import pyomo.opt as po"
   ]
  },
  {
   "cell_type": "code",
   "execution_count": 3,
   "metadata": {},
   "outputs": [],
   "source": [
    "model = pe.ConcreteModel()"
   ]
  },
  {
   "cell_type": "code",
   "execution_count": 4,
   "metadata": {},
   "outputs": [],
   "source": [
    "model.P = pe.RangeSet(1, numPatterns)\n",
    "model.S = pe.RangeSet(1, numSizes)"
   ]
  },
  {
   "cell_type": "code",
   "execution_count": 5,
   "metadata": {},
   "outputs": [],
   "source": [
    "model.z = pe.Var(model.P, domain = pe.NonNegativeIntegers)"
   ]
  },
  {
   "cell_type": "code",
   "execution_count": 6,
   "metadata": {},
   "outputs": [],
   "source": [
    "objExpr = sum(model.z[p] for p in model.P)\n",
    "model.obj = pe.Objective(expr = objExpr, sense = pe.minimize)"
   ]
  },
  {
   "cell_type": "code",
   "execution_count": 7,
   "metadata": {},
   "outputs": [],
   "source": [
    "## Constraints\n",
    "model.cnstrS = pe.ConstraintList()\n",
    "for s in model.S:\n",
    "    expression = sum(model.z[p] * a[p,s]  for p in model.P) >= demand[s]\n",
    "    model.cnstrS.add(expression)"
   ]
  },
  {
   "cell_type": "code",
   "execution_count": 8,
   "metadata": {},
   "outputs": [
    {
     "name": "stdout",
     "output_type": "stream",
     "text": [
      "Set parameter Username\n",
      "Academic license - for non-commercial use only - expires 2022-12-10\n",
      "Read LP format model from file C:\\Users\\rpo330\\AppData\\Local\\Temp\\tmpvz5353rr.pyomo.lp\n",
      "Reading time = 0.01 seconds\n",
      "x14: 6 rows, 14 columns, 24 nonzeros\n",
      "Gurobi Optimizer version 9.5.0 build v9.5.0rc5 (win64)\n",
      "Thread count: 6 physical cores, 12 logical processors, using up to 12 threads\n",
      "Optimize a model with 6 rows, 14 columns and 24 nonzeros\n",
      "Model fingerprint: 0xc4cbf59e\n",
      "Variable types: 1 continuous, 13 integer (0 binary)\n",
      "Coefficient statistics:\n",
      "  Matrix range     [1e+00, 4e+00]\n",
      "  Objective range  [1e+00, 1e+00]\n",
      "  Bounds range     [0e+00, 0e+00]\n",
      "  RHS range        [1e+00, 3e+01]\n",
      "Found heuristic solution: objective 53.0000000\n",
      "Presolve removed 1 rows and 1 columns\n",
      "Presolve time: 0.00s\n",
      "Presolved: 5 rows, 13 columns, 23 nonzeros\n",
      "Variable types: 0 continuous, 13 integer (0 binary)\n",
      "\n",
      "Root relaxation: objective 3.850000e+01, 6 iterations, 0.00 seconds (0.00 work units)\n",
      "\n",
      "    Nodes    |    Current Node    |     Objective Bounds      |     Work\n",
      " Expl Unexpl |  Obj  Depth IntInf | Incumbent    BestBd   Gap | It/Node Time\n",
      "\n",
      "     0     0   38.50000    0    1   53.00000   38.50000  27.4%     -    0s\n",
      "H    0     0                      39.0000000   38.50000  1.28%     -    0s\n",
      "     0     0   38.50000    0    1   39.00000   38.50000  1.28%     -    0s\n",
      "\n",
      "Explored 1 nodes (6 simplex iterations) in 0.01 seconds (0.00 work units)\n",
      "Thread count was 12 (of 12 available processors)\n",
      "\n",
      "Solution count 2: 39 53 \n",
      "\n",
      "Optimal solution found (tolerance 1.00e-04)\n",
      "Best objective 3.900000000000e+01, best bound 3.900000000000e+01, gap 0.0000%\n"
     ]
    }
   ],
   "source": [
    "solver = po.SolverFactory('gurobi')\n",
    "result = solver.solve(model, tee = True)"
   ]
  },
  {
   "cell_type": "code",
   "execution_count": 9,
   "metadata": {},
   "outputs": [
    {
     "name": "stdout",
     "output_type": "stream",
     "text": [
      "ok\n",
      "optimal\n"
     ]
    }
   ],
   "source": [
    "print(result.solver.status)\n",
    "print(result.solver.termination_condition)"
   ]
  },
  {
   "cell_type": "code",
   "execution_count": 10,
   "metadata": {},
   "outputs": [
    {
     "name": "stdout",
     "output_type": "stream",
     "text": [
      "Objective value = 39.0\n",
      "Rolls:\n",
      "z[1] = 1.0\n",
      "z[6] = 15.0\n",
      "z[10] = 7.0\n",
      "z[11] = 9.0\n",
      "z[13] = 7.0\n"
     ]
    }
   ],
   "source": [
    "print(\"Objective value = \"+ str(pe.value(model.obj)))\n",
    "\n",
    "print(\"Rolls:\")\n",
    "for p in model.P:\n",
    "    if(pe.value(model.z[p]) > 0):\n",
    "        print(str(model.z[p]) + \" = \" + str(pe.value(model.z[p])))"
   ]
  }
 ],
 "metadata": {
  "kernelspec": {
   "display_name": "Python 3",
   "language": "python",
   "name": "python3"
  },
  "language_info": {
   "codemirror_mode": {
    "name": "ipython",
    "version": 3
   },
   "file_extension": ".py",
   "mimetype": "text/x-python",
   "name": "python",
   "nbconvert_exporter": "python",
   "pygments_lexer": "ipython3",
   "version": "3.8.5"
  }
 },
 "nbformat": 4,
 "nbformat_minor": 4
}
