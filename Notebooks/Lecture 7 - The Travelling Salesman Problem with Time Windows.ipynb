{
 "cells": [
  {
   "cell_type": "code",
   "execution_count": 1,
   "metadata": {},
   "outputs": [],
   "source": [
    "#set of cities\n",
    "cities = {'Ams', 'Rot', 'Hag', 'Utr', 'Ein', 'Til', 'Gro', 'Alm', 'Bre', 'Nij'}\n",
    "\n",
    "## start and end\n",
    "start = 'Ams'\n",
    "\n",
    "# Earliest service time\n",
    "e = {'Ams':0, 'Rot':360, 'Hag':660, 'Utr':360, 'Ein':360, 'Til':360, 'Gro':720, 'Alm':1080, 'Bre':360, 'Nij':600}\n",
    "\n",
    "# Latest service time\n",
    "l = {'Ams':1440, 'Rot':480, 'Hag':840, 'Utr':480, 'Ein':600, 'Til':1200, 'Gro':900, 'Alm':1200, 'Bre':1200, 'Nij':1200}\n",
    "\n",
    "\n",
    "## Distances between cities\n",
    "d = {('Ams', 'Ams'): 0, ('Ams', 'Rot'): 58, ('Ams', 'Hag'): 61, ('Ams', 'Utr'): 53, ('Ams', 'Ein'): 131,\n",
    " ('Ams', 'Til'): 119,\n",
    " ('Ams', 'Gro'): 183,\n",
    " ('Ams', 'Alm'): 34,\n",
    " ('Ams', 'Bre'): 112,\n",
    " ('Ams', 'Nij'): 123,\n",
    " ('Rot', 'Ams'): 58,\n",
    " ('Rot', 'Rot'): 0,\n",
    " ('Rot', 'Hag'): 27,\n",
    " ('Rot', 'Utr'): 62,\n",
    " ('Rot', 'Ein'): 111,\n",
    " ('Rot', 'Til'): 77,\n",
    " ('Rot', 'Gro'): 246,\n",
    " ('Rot', 'Alm'): 100,\n",
    " ('Rot', 'Bre'): 51,\n",
    " ('Rot', 'Nij'): 109, ('Hag', 'Ams'): 61, ('Hag', 'Rot'): 27,\n",
    " ('Hag', 'Hag'): 0,\n",
    " ('Hag', 'Utr'): 70,\n",
    " ('Hag', 'Ein'): 143,\n",
    " ('Hag', 'Til'): 106,\n",
    " ('Hag', 'Gro'): 237,\n",
    " ('Hag', 'Alm'): 88,\n",
    " ('Hag', 'Bre'): 79,\n",
    " ('Hag', 'Nij'): 136,\n",
    " ('Utr', 'Ams'): 53,\n",
    " ('Utr', 'Rot'): 62,\n",
    " ('Utr', 'Hag'): 70,\n",
    " ('Utr', 'Utr'): 0,\n",
    " ('Utr', 'Ein'): 92,\n",
    " ('Utr', 'Til'): 80,\n",
    " ('Utr', 'Gro'): 188,\n",
    " ('Utr', 'Alm'): 42,\n",
    " ('Utr', 'Bre'): 73,\n",
    " ('Utr', 'Nij'): 90,\n",
    " ('Ein', 'Ams'): 131,\n",
    " ('Ein', 'Rot'): 111,\n",
    " ('Ein', 'Hag'): 143,\n",
    " ('Ein', 'Utr'): 92,\n",
    " ('Ein', 'Ein'): 0,\n",
    " ('Ein', 'Til'): 39,\n",
    " ('Ein', 'Gro'): 253,\n",
    " ('Ein', 'Alm'): 128,\n",
    " ('Ein', 'Bre'): 60,\n",
    " ('Ein', 'Nij'): 66,\n",
    " ('Til', 'Ams'): 119,\n",
    " ('Til', 'Rot'): 77,\n",
    " ('Til', 'Hag'): 106,\n",
    " ('Til', 'Utr'): 80,\n",
    " ('Til', 'Ein'): 39,\n",
    " ('Til', 'Til'): 0,\n",
    " ('Til', 'Gro'): 262,\n",
    " ('Til', 'Alm'): 116,\n",
    " ('Til', 'Bre'): 30,\n",
    " ('Til', 'Nij'): 80,\n",
    " ('Gro', 'Ams'): 183,\n",
    " ('Gro', 'Rot'): 246,\n",
    " ('Gro', 'Hag'): 237,\n",
    " ('Gro', 'Utr'): 188,\n",
    " ('Gro', 'Ein'): 253,\n",
    " ('Gro', 'Til'): 262,\n",
    " ('Gro', 'Gro'): 0,\n",
    " ('Gro', 'Alm'): 155,\n",
    " ('Gro', 'Bre'): 255,\n",
    " ('Gro', 'Nij'): 208,\n",
    " ('Alm', 'Ams'): 34,\n",
    " ('Alm', 'Rot'): 100,\n",
    " ('Alm', 'Hag'): 88,\n",
    " ('Alm', 'Utr'): 42,\n",
    " ('Alm', 'Ein'): 128,\n",
    " ('Alm', 'Til'): 116,\n",
    " ('Alm', 'Gro'): 155,\n",
    " ('Alm', 'Alm'): 0,\n",
    " ('Alm', 'Bre'): 109,\n",
    " ('Alm', 'Nij'): 112,\n",
    " ('Bre', 'Ams'): 112,\n",
    " ('Bre', 'Rot'): 51,\n",
    " ('Bre', 'Hag'): 79,\n",
    " ('Bre', 'Utr'): 73,\n",
    " ('Bre', 'Ein'): 60,\n",
    " ('Bre', 'Til'): 30,\n",
    " ('Bre', 'Gro'): 255,\n",
    " ('Bre', 'Alm'): 109,\n",
    " ('Bre', 'Bre'): 0,\n",
    " ('Bre', 'Nij'): 96,\n",
    " ('Nij', 'Ams'): 123,\n",
    " ('Nij', 'Rot'): 109,\n",
    " ('Nij', 'Hag'): 136,\n",
    " ('Nij', 'Utr'): 90,\n",
    " ('Nij', 'Ein'): 66,\n",
    " ('Nij', 'Til'): 80,\n",
    " ('Nij', 'Gro'): 208,\n",
    " ('Nij', 'Alm'): 112,\n",
    " ('Nij', 'Bre'): 96,\n",
    " ('Nij', 'Nij'): 0}"
   ]
  },
  {
   "cell_type": "code",
   "execution_count": 2,
   "metadata": {},
   "outputs": [],
   "source": [
    "import pyomo.environ as pe\n",
    "import pyomo.opt as po"
   ]
  },
  {
   "cell_type": "code",
   "execution_count": 3,
   "metadata": {},
   "outputs": [],
   "source": [
    "model = pe.ConcreteModel()"
   ]
  },
  {
   "cell_type": "code",
   "execution_count": 4,
   "metadata": {},
   "outputs": [],
   "source": [
    "model.N = pe.Set(initialize =cities ,ordered = False)"
   ]
  },
  {
   "cell_type": "code",
   "execution_count": 5,
   "metadata": {},
   "outputs": [],
   "source": [
    "model.x = pe.Var(model.N, model.N, domain = pe.Binary)\n",
    "model.u = pe.Var(model.N, domain = pe.NonNegativeIntegers)"
   ]
  },
  {
   "cell_type": "code",
   "execution_count": 6,
   "metadata": {},
   "outputs": [],
   "source": [
    "objExpr = sum(model.x[i,j] * d[i,j] for i in model.N for j in model.N)\n",
    "model.obj = pe.Objective(expr = objExpr, sense = pe.minimize)"
   ]
  },
  {
   "cell_type": "code",
   "execution_count": 7,
   "metadata": {},
   "outputs": [],
   "source": [
    "# Tour leaves each city\n",
    "model.cnstrOut = pe.ConstraintList()\n",
    "for i in model.N: \n",
    "    expression = sum(model.x[i,j] for j in model.N) == 1\n",
    "    model.cnstrOut.add(expression)\n",
    "    \n",
    "# Tour enters each city\n",
    "model.cnstrIn = pe.ConstraintList()\n",
    "for j in model.N: \n",
    "    expression = sum(model.x[i,j] for i in model.N) == 1\n",
    "    model.cnstrIn.add(expression)\n",
    "\n",
    "# Subtours elimination constraints using arrival time\n",
    "model.cnstrSubTour = pe.ConstraintList()\n",
    "for i in model.N:\n",
    "    for j in model.N:\n",
    "        if i != j and j != start:\n",
    "            expression = model.u[i] + 1 <= model.u[j] + l[start]*(1 - model.x[i,j])\n",
    "            model.cnstrSubTour.add(expression)\n",
    "\n",
    "# TW constraints\n",
    "model.cnstrTWl = pe.ConstraintList()\n",
    "for i in model.N:\n",
    "    expression = model.u[i] <= l[i]\n",
    "    model.cnstrSubTour.add(expression)\n",
    "\n",
    "model.cnstrTWe = pe.ConstraintList()\n",
    "for i in model.N:\n",
    "    expression = model.u[i] >= e[i]\n",
    "    model.cnstrSubTour.add(expression)\n",
    "  \n",
    "            \n",
    "#TW for starting point\n",
    "startExpr = model.u[start] == e[start]\n",
    "model.cnstrStart = pe.Constraint(expr = startExpr)\n",
    "\n",
    "## Prevent loops on a singe nodes\n",
    "model.cnstrSingleLoop = pe.ConstraintList()\n",
    "for i in model.N:\n",
    "    expression = model.x[i,i] == 0\n",
    "    model.cnstrSingleLoop.add(expression)"
   ]
  },
  {
   "cell_type": "code",
   "execution_count": 8,
   "metadata": {},
   "outputs": [
    {
     "name": "stdout",
     "output_type": "stream",
     "text": [
      "Set parameter Username\n",
      "Academic license - for non-commercial use only - expires 2022-12-10\n",
      "Read LP format model from file C:\\Users\\rpo330\\AppData\\Local\\Temp\\tmperh8vl4z.pyomo.lp\n",
      "Reading time = 0.01 seconds\n",
      "x111: 133 rows, 111 columns, 475 nonzeros\n",
      "Gurobi Optimizer version 9.5.0 build v9.5.0rc5 (win64)\n",
      "Thread count: 6 physical cores, 12 logical processors, using up to 12 threads\n",
      "Optimize a model with 133 rows, 111 columns and 475 nonzeros\n",
      "Model fingerprint: 0xa466f05a\n",
      "Variable types: 1 continuous, 110 integer (100 binary)\n",
      "Coefficient statistics:\n",
      "  Matrix range     [1e+00, 1e+03]\n",
      "  Objective range  [3e+01, 3e+02]\n",
      "  Bounds range     [1e+00, 1e+00]\n",
      "  RHS range        [1e+00, 1e+03]\n",
      "Presolve removed 68 rows and 26 columns\n",
      "Presolve time: 0.00s\n",
      "Presolved: 65 rows, 85 columns, 287 nonzeros\n",
      "Variable types: 0 continuous, 85 integer (76 binary)\n",
      "Found heuristic solution: objective 1198.0000000\n",
      "Found heuristic solution: objective 1113.0000000\n",
      "\n",
      "Root relaxation: objective 7.543981e+02, 27 iterations, 0.00 seconds (0.00 work units)\n",
      "\n",
      "    Nodes    |    Current Node    |     Objective Bounds      |     Work\n",
      " Expl Unexpl |  Obj  Depth IntInf | Incumbent    BestBd   Gap | It/Node Time\n",
      "\n",
      "     0     0  754.39806    0    8 1113.00000  754.39806  32.2%     -    0s\n",
      "H    0     0                     895.0000000  754.39806  15.7%     -    0s\n",
      "     0     0  772.64923    0   13  895.00000  772.64923  13.7%     -    0s\n",
      "H    0     0                     860.0000000  772.64923  10.2%     -    0s\n",
      "     0     0  785.33234    0   13  860.00000  785.33234  8.68%     -    0s\n",
      "     0     0  792.01664    0   11  860.00000  792.01664  7.91%     -    0s\n",
      "     0     0  796.00000    0   10  860.00000  796.00000  7.44%     -    0s\n",
      "     0     0  796.05473    0   17  860.00000  796.05473  7.44%     -    0s\n",
      "     0     0  799.07134    0   17  860.00000  799.07134  7.08%     -    0s\n",
      "H    0     0                     825.0000000  799.07134  3.14%     -    0s\n",
      "     0     0  804.05229    0   13  825.00000  804.05229  2.54%     -    0s\n",
      "     0     0  804.05229    0    8  825.00000  804.05229  2.54%     -    0s\n",
      "     0     0  804.05229    0    4  825.00000  804.05229  2.54%     -    0s\n",
      "     0     0  825.00000    0   13  825.00000  825.00000  0.00%     -    0s\n",
      "\n",
      "Cutting planes:\n",
      "  Learned: 1\n",
      "  Gomory: 1\n",
      "  Cover: 1\n",
      "\n",
      "Explored 1 nodes (124 simplex iterations) in 0.03 seconds (0.01 work units)\n",
      "Thread count was 12 (of 12 available processors)\n",
      "\n",
      "Solution count 6: 825 860 860 ... 1198\n",
      "\n",
      "Optimal solution found (tolerance 1.00e-04)\n",
      "Best objective 8.250000000000e+02, best bound 8.250000000000e+02, gap 0.0000%\n"
     ]
    }
   ],
   "source": [
    "#model.pprint()\n",
    "solver = po.SolverFactory('gurobi')\n",
    "result = solver.solve(model, tee = True)"
   ]
  },
  {
   "cell_type": "code",
   "execution_count": 9,
   "metadata": {},
   "outputs": [
    {
     "name": "stdout",
     "output_type": "stream",
     "text": [
      "ok\n",
      "optimal\n"
     ]
    }
   ],
   "source": [
    "print(result.solver.status)\n",
    "print(result.solver.termination_condition)"
   ]
  },
  {
   "cell_type": "code",
   "execution_count": 10,
   "metadata": {},
   "outputs": [
    {
     "name": "stdout",
     "output_type": "stream",
     "text": [
      "Objective value = 825.0\n"
     ]
    }
   ],
   "source": [
    "print(\"Objective value = \"+ str(pe.value(model.obj)))"
   ]
  },
  {
   "cell_type": "code",
   "execution_count": 11,
   "metadata": {},
   "outputs": [
    {
     "name": "stdout",
     "output_type": "stream",
     "text": [
      "\n",
      "Tour:\n",
      "\n",
      "x[Utr,Ein] = 1.0\n",
      "x[Nij,Gro] = 1.0\n",
      "x[Bre,Rot] = 1.0\n",
      "x[Rot,Hag] = 1.0\n",
      "x[Hag,Nij] = 1.0\n",
      "x[Ein,Til] = 1.0\n",
      "x[Til,Bre] = 1.0\n",
      "x[Alm,Ams] = 1.0\n",
      "x[Gro,Alm] = 1.0\n",
      "x[Ams,Utr] = 1.0\n",
      "\n",
      "Starting time:\n",
      "\n",
      "u[Utr] = 360.0\n",
      "u[Nij] = 661.0\n",
      "u[Bre] = 363.0\n",
      "u[Rot] = 480.0\n",
      "u[Hag] = 660.0\n",
      "u[Ein] = 361.0\n",
      "u[Til] = 362.0\n",
      "u[Alm] = 1080.0\n",
      "u[Gro] = 720.0\n",
      "u[Ams] = 0.0\n"
     ]
    }
   ],
   "source": [
    "print(\"\\nTour:\\n\")\n",
    "for i in model.N:\n",
    "    for j in model.N:\n",
    "        if(pe.value(model.x[i,j]) > 0):\n",
    "            print(str(model.x[i,j]) + \" = \" + str(pe.value(model.x[i,j])))\n",
    "            \n",
    "print(\"\\nStarting time:\\n\")\n",
    "for i in model.N:\n",
    "        print(str(model.u[i]) + \" = \" + str(pe.value(model.u[i])))"
   ]
  }
 ],
 "metadata": {
  "kernelspec": {
   "display_name": "Python 3",
   "language": "python",
   "name": "python3"
  },
  "language_info": {
   "codemirror_mode": {
    "name": "ipython",
    "version": 3
   },
   "file_extension": ".py",
   "mimetype": "text/x-python",
   "name": "python",
   "nbconvert_exporter": "python",
   "pygments_lexer": "ipython3",
   "version": "3.8.5"
  }
 },
 "nbformat": 4,
 "nbformat_minor": 4
}
