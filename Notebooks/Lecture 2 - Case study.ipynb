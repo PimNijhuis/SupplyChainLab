{
 "cells": [
  {
   "cell_type": "markdown",
   "metadata": {},
   "source": [
    "# Lecture 2 - Case study\n",
    "### Assume that you are in charge of evacuating a set of resources (1000 cargoes, 800 people, and 20 wheelchair users) from a small town due to a coming flood. At your disposal you may hire trucks, big taxis, and buses, each associated with a cost of € 10,000, € 1,100, and € 10,000, respectively. You know that trucks can carry 100 units of cargo and 1  person, taxis can transport 1 unit of cargo, 4 people, 2 wheelchair users, buses can carry 10 units of cargo, 50 people, 1  wheelchair user. How many taxis, buses and trucks would you use?"
   ]
  },
  {
   "cell_type": "code",
   "execution_count": 1,
   "metadata": {},
   "outputs": [],
   "source": [
    "#Resources and vehicles\n",
    "vehicles = {'Truck', 'Taxi', 'Bus'}\n",
    "resources = {'Cargo' , 'Person' , 'Wheelchair'}"
   ]
  },
  {
   "cell_type": "markdown",
   "metadata": {},
   "source": [
    "## Given the problem description, we can arrange the input data in  _dictionaries_ before building our model."
   ]
  },
  {
   "cell_type": "code",
   "execution_count": 2,
   "metadata": {},
   "outputs": [],
   "source": [
    "##Nedeed capacity\n",
    "nedeedCapacity = {'Cargo': 1000, 'Person': 800, 'Wheelchair': 20}\n",
    "\n",
    "##Capacity for each vehicle and resource\n",
    "capacity = { ('Truck', 'Cargo'): 100 , ('Truck', 'Person'): 1, ('Truck', 'Wheelchair'): 0, \n",
    "            ('Taxi', 'Cargo'): 1 , ('Taxi', 'Person'): 4, ('Taxi', 'Wheelchair'): 2,\n",
    "            ('Bus', 'Cargo'): 10 , ('Bus', 'Person'): 50, ('Bus', 'Wheelchair'): 1\n",
    "           }\n",
    "cost = {'Truck' :10000 , 'Taxi':1100 , 'Bus':10000 }"
   ]
  },
  {
   "cell_type": "code",
   "execution_count": 3,
   "metadata": {},
   "outputs": [],
   "source": [
    "## Import pyomo\n",
    "import pyomo.environ as pe\n",
    "import pyomo.opt as po"
   ]
  },
  {
   "cell_type": "code",
   "execution_count": 4,
   "metadata": {},
   "outputs": [],
   "source": [
    "## Init model and optimizer \n",
    "model = pe.ConcreteModel()\n",
    "solver = po.SolverFactory('gurobi')"
   ]
  },
  {
   "cell_type": "code",
   "execution_count": 5,
   "metadata": {},
   "outputs": [],
   "source": [
    "## Sets of indices\n",
    "model.V = pe.Set(initialize = vehicles, ordered = False)\n",
    "model.R = pe.Set(initialize = resources, ordered = False)"
   ]
  },
  {
   "cell_type": "code",
   "execution_count": 6,
   "metadata": {},
   "outputs": [],
   "source": [
    "## Variables\n",
    "model.x = pe.Var(model.V, domain = pe.NonNegativeIntegers)"
   ]
  },
  {
   "cell_type": "code",
   "execution_count": 7,
   "metadata": {},
   "outputs": [],
   "source": [
    "##Objective\n",
    "obj_expr = sum(model.x[v] * cost[v] for v in model.V)\n",
    "model.obj = pe.Objective(expr = obj_expr, sense=pe.minimize)"
   ]
  },
  {
   "cell_type": "markdown",
   "metadata": {},
   "source": [
    "### In this case we have a constraint for each resource. We will use a _constraintlist_."
   ]
  },
  {
   "cell_type": "code",
   "execution_count": 8,
   "metadata": {},
   "outputs": [
    {
     "name": "stdout",
     "output_type": "stream",
     "text": [
      "800  <=  x[Truck] + 4*x[Taxi] + 50*x[Bus]\n",
      "1000  <=  100*x[Truck] + x[Taxi] + 10*x[Bus]\n",
      "20  <=  2*x[Taxi] + x[Bus]\n"
     ]
    }
   ],
   "source": [
    "model.resource_capacity = pe.ConstraintList()\n",
    "for r in model.R:\n",
    "    con_expr = sum(model.x[v] * capacity[v,r] for v in model.V)>= nedeedCapacity[r]\n",
    "    print(con_expr) ## Some printing to check\n",
    "    model.resource_capacity.add(con_expr)\n",
    "## we added all the constraints to our constraints list attached to the model."
   ]
  },
  {
   "cell_type": "code",
   "execution_count": 9,
   "metadata": {},
   "outputs": [
    {
     "name": "stdout",
     "output_type": "stream",
     "text": [
      "Set parameter Username\n",
      "Academic license - for non-commercial use only - expires 2022-04-14\n",
      "Read LP format model from file C:\\Users\\timva\\AppData\\Local\\Temp\\tmpj3wjcrsw.pyomo.lp\n",
      "Reading time = 0.00 seconds\n",
      "x4: 4 rows, 4 columns, 9 nonzeros\n",
      "Gurobi Optimizer version 9.5.0 build v9.5.0rc5 (win64)\n",
      "Thread count: 4 physical cores, 8 logical processors, using up to 8 threads\n",
      "Optimize a model with 4 rows, 4 columns and 9 nonzeros\n",
      "Model fingerprint: 0x8851862e\n",
      "Variable types: 1 continuous, 3 integer (0 binary)\n",
      "Coefficient statistics:\n",
      "  Matrix range     [1e+00, 1e+02]\n",
      "  Objective range  [1e+03, 1e+04]\n",
      "  Bounds range     [0e+00, 0e+00]\n",
      "  RHS range        [1e+00, 1e+03]\n",
      "Presolve removed 1 rows and 1 columns\n",
      "Presolve time: 0.00s\n",
      "Presolved: 3 rows, 3 columns, 8 nonzeros\n",
      "Variable types: 0 continuous, 3 integer (0 binary)\n",
      "Found heuristic solution: objective 1000000.00000\n",
      "\n",
      "Root relaxation: objective 2.430936e+05, 3 iterations, 0.00 seconds (0.00 work units)\n",
      "\n",
      "    Nodes    |    Current Node    |     Objective Bounds      |     Work\n",
      " Expl Unexpl |  Obj  Depth IntInf | Incumbent    BestBd   Gap | It/Node Time\n",
      "\n",
      "     0     0 243093.623    0    3 1000000.000 243093.623  75.7%     -    0s\n",
      "H    0     0                    252100.00000 243093.623  3.57%     -    0s\n",
      "\n",
      "Cutting planes:\n",
      "  Gomory: 1\n",
      "  MIR: 2\n",
      "\n",
      "Explored 1 nodes (3 simplex iterations) in 0.02 seconds (0.00 work units)\n",
      "Thread count was 8 (of 8 available processors)\n",
      "\n",
      "Solution count 2: 252100 1e+06 \n",
      "\n",
      "Optimal solution found (tolerance 1.00e-04)\n",
      "Best objective 2.521000000000e+05, best bound 2.521000000000e+05, gap 0.0000%\n"
     ]
    }
   ],
   "source": [
    "## The model is complete and can be solved\n",
    "result = solver.solve(model, tee= True)"
   ]
  },
  {
   "cell_type": "code",
   "execution_count": 10,
   "metadata": {},
   "outputs": [
    {
     "name": "stdout",
     "output_type": "stream",
     "text": [
      "ok\n",
      "optimal\n"
     ]
    }
   ],
   "source": [
    "print(result.solver.status)\n",
    "print(result.solver.termination_condition)"
   ]
  },
  {
   "cell_type": "code",
   "execution_count": 11,
   "metadata": {},
   "outputs": [
    {
     "name": "stdout",
     "output_type": "stream",
     "text": [
      "Objective = 252100.0\n",
      "x[Truck] = 9.0\n",
      "x[Taxi] = 11.0\n",
      "x[Bus] = 15.0\n"
     ]
    }
   ],
   "source": [
    "print(\"Objective = \"+str(pe.value(model.obj)))\n",
    "for v in model.V: \n",
    "    if pe.value(model.x[v] > 0):\n",
    "        print(str(model.x[v]) + \" = \" + str(pe.value(model.x[v])))"
   ]
  },
  {
   "cell_type": "code",
   "execution_count": null,
   "metadata": {},
   "outputs": [],
   "source": []
  }
 ],
 "metadata": {
  "kernelspec": {
   "display_name": "Python 3",
   "language": "python",
   "name": "python3"
  },
  "language_info": {
   "codemirror_mode": {
    "name": "ipython",
    "version": 3
   },
   "file_extension": ".py",
   "mimetype": "text/x-python",
   "name": "python",
   "nbconvert_exporter": "python",
   "pygments_lexer": "ipython3",
   "version": "3.8.3"
  }
 },
 "nbformat": 4,
 "nbformat_minor": 4
}
