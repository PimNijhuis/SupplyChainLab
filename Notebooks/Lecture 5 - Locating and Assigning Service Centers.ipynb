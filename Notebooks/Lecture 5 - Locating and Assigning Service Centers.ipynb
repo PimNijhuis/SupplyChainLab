{
 "cells": [
  {
   "cell_type": "code",
   "execution_count": 1,
   "metadata": {},
   "outputs": [],
   "source": [
    "\n",
    "cities = {'BOS', 'CHI', 'DAL', 'DEN', 'LA', 'MIA', 'NY', 'PHO', 'PI', 'SF',\n",
    "            'SE'}\n",
    "\n",
    "expTrips = {'BOS': 885, 'CHI':760, 'DAL':1124, 'DEN':708, 'LA':1224, 'MIA':1152, 'NY':1560, 'PHO':1222, 'PI':856, 'SF':1443,\n",
    "            'SE':612}\n",
    "\n",
    "numCenters = 3\n",
    "\n",
    "distanceMatrix = {('BOS', 'BOS'): 0,\n",
    " ('BOS', 'CHI'): 983,\n",
    " ('BOS', 'DAL'): 1815,\n",
    " ('BOS', 'DEN'): 1991,\n",
    " ('BOS', 'LA'): 3036,\n",
    " ('BOS', 'MIA'): 1539,\n",
    " ('BOS', 'NY'): 213,\n",
    " ('BOS', 'PHO'): 2664,\n",
    " ('BOS', 'PI'): 792,\n",
    " ('BOS', 'SF'): 2385,\n",
    " ('BOS', 'SE'): 2612,\n",
    " ('CHI', 'BOS'): 983,\n",
    " ('CHI', 'CHI'): 0,\n",
    " ('CHI', 'DAL'): 1205,\n",
    " ('CHI', 'DEN'): 1050,\n",
    " ('CHI', 'LA'): 2112,\n",
    " ('CHI', 'MIA'): 1390,\n",
    " ('CHI', 'NY'): 840,\n",
    " ('CHI', 'PHO'): 1729,\n",
    " ('CHI', 'PI'): 457,\n",
    " ('CHI', 'SF'): 2212,\n",
    " ('CHI', 'SE'): 2052,\n",
    " ('DAL', 'BOS'): 1815,\n",
    " ('DAL', 'CHI'): 1205,\n",
    " ('DAL', 'DAL'): 0,\n",
    " ('DAL', 'DEN'): 801,\n",
    " ('DAL', 'LA'): 1425,\n",
    " ('DAL', 'MIA'): 1332,\n",
    " ('DAL', 'NY'): 1604,\n",
    " ('DAL', 'PHO'): 1027,\n",
    " ('DAL', 'PI'): 1237,\n",
    " ('DAL', 'SF'): 1765,\n",
    " ('DAL', 'SE'): 2404,\n",
    " ('DEN', 'BOS'): 1991,\n",
    " ('DEN', 'CHI'): 1050,\n",
    " ('DEN', 'DAL'): 801,\n",
    " ('DEN', 'DEN'): 0,\n",
    " ('DEN', 'LA'): 1174,\n",
    " ('DEN', 'MIA'): 2041,\n",
    " ('DEN', 'NY'): 1780,\n",
    " ('DEN', 'PHO'): 836,\n",
    " ('DEN', 'PI'): 1411,\n",
    " ('DEN', 'SF'): 1765,\n",
    " ('DEN', 'SE'): 1373,\n",
    " ('LA', 'BOS'): 3036,\n",
    " ('LA', 'CHI'): 2112,\n",
    " ('LA', 'DAL'): 1425,\n",
    " ('LA', 'DEN'): 1174,\n",
    " ('LA', 'LA'): 0,\n",
    " ('LA', 'MIA'): 2757,\n",
    " ('LA', 'NY'): 2825,\n",
    " ('LA', 'PHO'): 398,\n",
    " ('LA', 'PI'): 2456,\n",
    " ('LA', 'SF'): 403,\n",
    " ('LA', 'SE'): 1909,\n",
    " ('MIA', 'BOS'): 1539,\n",
    " ('MIA', 'CHI'): 1390,\n",
    " ('MIA', 'DAL'): 1332,\n",
    " ('MIA', 'DEN'): 2041,\n",
    " ('MIA', 'LA'): 2757,\n",
    " ('MIA', 'MIA'): 0,\n",
    " ('MIA', 'NY'): 1258,\n",
    " ('MIA', 'PHO'): 2359,\n",
    " ('MIA', 'PI'): 1250,\n",
    " ('MIA', 'SF'): 3097,\n",
    " ('MIA', 'SE'): 3389,\n",
    " ('NY', 'BOS'): 213,\n",
    " ('NY', 'CHI'): 840,\n",
    " ('NY', 'DAL'): 1604,\n",
    " ('NY', 'DEN'): 1780,\n",
    " ('NY', 'LA'): 2825,\n",
    " ('NY', 'MIA'): 1258,\n",
    " ('NY', 'NY'): 0,\n",
    " ('NY', 'PHO'): 2442,\n",
    " ('NY', 'PI'): 386,\n",
    " ('NY', 'SF'): 3036,\n",
    " ('NY', 'SE'): 2900,\n",
    " ('PHO', 'BOS'): 2664,\n",
    " ('PHO', 'CHI'): 1729,\n",
    " ('PHO', 'DAL'): 1027,\n",
    " ('PHO', 'DEN'): 836,\n",
    " ('PHO', 'LA'): 398,\n",
    " ('PHO', 'MIA'): 2359,\n",
    " ('PHO', 'NY'): 2442,\n",
    " ('PHO', 'PHO'): 0,\n",
    " ('PHO', 'PI'): 2073,\n",
    " ('PHO', 'SF'): 800,\n",
    " ('PHO', 'SE'): 1482,\n",
    " ('PI', 'BOS'): 792,\n",
    " ('PI', 'CHI'): 457,\n",
    " ('PI', 'DAL'): 1237,\n",
    " ('PI', 'DEN'): 1411,\n",
    " ('PI', 'LA'): 2456,\n",
    " ('PI', 'MIA'): 1250,\n",
    " ('PI', 'NY'): 386,\n",
    " ('PI', 'PHO'): 2073,\n",
    " ('PI', 'PI'): 0,\n",
    " ('PI', 'SF'): 2653,\n",
    " ('PI', 'SE'): 2517,\n",
    " ('SF', 'BOS'): 2385,\n",
    " ('SF', 'CHI'): 2212,\n",
    " ('SF', 'DAL'): 1765,\n",
    " ('SF', 'DEN'): 1765,\n",
    " ('SF', 'LA'): 403,\n",
    " ('SF', 'MIA'): 3097,\n",
    " ('SF', 'NY'): 3036,\n",
    " ('SF', 'PHO'): 800,\n",
    " ('SF', 'PI'): 2653,\n",
    " ('SF', 'SF'): 0,\n",
    " ('SF', 'SE'): 817,\n",
    " ('SE', 'BOS'): 2612,\n",
    " ('SE', 'CHI'): 2052,\n",
    " ('SE', 'DAL'): 2404,\n",
    " ('SE', 'DEN'): 1373,\n",
    " ('SE', 'LA'): 1909,\n",
    " ('SE', 'MIA'): 3389,\n",
    " ('SE', 'NY'): 2900,\n",
    " ('SE', 'PHO'): 1482,\n",
    " ('SE', 'PI'): 2517,\n",
    " ('SE', 'SF'): 817,\n",
    " ('SE', 'SE'): 0}"
   ]
  },
  {
   "cell_type": "code",
   "execution_count": 2,
   "metadata": {},
   "outputs": [],
   "source": [
    "import pyomo.environ as pe\n",
    "import pyomo.opt as po"
   ]
  },
  {
   "cell_type": "code",
   "execution_count": 3,
   "metadata": {},
   "outputs": [],
   "source": [
    "model = pe.ConcreteModel()"
   ]
  },
  {
   "cell_type": "code",
   "execution_count": 4,
   "metadata": {},
   "outputs": [],
   "source": [
    "model.C = pe.Set(initialize = cities, ordered = False)"
   ]
  },
  {
   "cell_type": "code",
   "execution_count": 5,
   "metadata": {},
   "outputs": [],
   "source": [
    "model.x = pe.Var(model.C,model.C ,domain = pe.Binary)\n",
    "model.y = pe.Var(model.C, domain = pe.Binary)"
   ]
  },
  {
   "cell_type": "code",
   "execution_count": 6,
   "metadata": {},
   "outputs": [],
   "source": [
    "objExpr = sum(distanceMatrix[i,j] * expTrips[i] * model.x[i,j] for i in model.C for j in model.C)\n",
    "model.obj = pe.Objective(expr = objExpr, sense = pe.minimize)"
   ]
  },
  {
   "cell_type": "code",
   "execution_count": 7,
   "metadata": {},
   "outputs": [],
   "source": [
    "cnstrExpr = sum(model.y[j]  for j in model.C) == numCenters\n",
    "model.cnstrMin = pe.Constraint(expr = cnstrExpr)\n",
    "\n",
    "model.cnstrServe = pe.ConstraintList()\n",
    "for i in model.C:\n",
    "    expression = sum(model.x[i,j] for j in model.C) == 1\n",
    "    model.cnstrServe.add(expression)\n",
    "\n",
    "    "
   ]
  },
  {
   "cell_type": "code",
   "execution_count": 8,
   "metadata": {},
   "outputs": [],
   "source": [
    "model.cnstrLinkXY = pe.ConstraintList()\n",
    "for i in model.C:\n",
    "    for j in model.C:\n",
    "        expression = model.x[i,j] <= model.y[j]\n",
    "        model.cnstrLinkXY.add(expression)"
   ]
  },
  {
   "cell_type": "code",
   "execution_count": 9,
   "metadata": {},
   "outputs": [
    {
     "name": "stdout",
     "output_type": "stream",
     "text": [
      "Set parameter Username\n",
      "Academic license - for non-commercial use only - expires 2022-12-10\n",
      "Read LP format model from file C:\\Users\\rpo330\\AppData\\Local\\Temp\\tmpwgm0if7h.pyomo.lp\n",
      "Reading time = 0.01 seconds\n",
      "x133: 134 rows, 133 columns, 375 nonzeros\n",
      "Gurobi Optimizer version 9.5.0 build v9.5.0rc5 (win64)\n",
      "Thread count: 6 physical cores, 12 logical processors, using up to 12 threads\n",
      "Optimize a model with 134 rows, 133 columns and 375 nonzeros\n",
      "Model fingerprint: 0x7e7f08e6\n",
      "Variable types: 1 continuous, 132 integer (132 binary)\n",
      "Coefficient statistics:\n",
      "  Matrix range     [1e+00, 1e+00]\n",
      "  Objective range  [2e+05, 5e+06]\n",
      "  Bounds range     [1e+00, 1e+00]\n",
      "  RHS range        [1e+00, 3e+00]\n",
      "Found heuristic solution: objective 2.069726e+07\n",
      "Presolve removed 1 rows and 1 columns\n",
      "Presolve time: 0.00s\n",
      "Presolved: 133 rows, 132 columns, 374 nonzeros\n",
      "Variable types: 0 continuous, 132 integer (132 binary)\n",
      "Found heuristic solution: objective 6095077.0000\n",
      "\n",
      "Root relaxation: objective 5.144521e+06, 51 iterations, 0.00 seconds (0.00 work units)\n",
      "\n",
      "    Nodes    |    Current Node    |     Objective Bounds      |     Work\n",
      " Expl Unexpl |  Obj  Depth IntInf | Incumbent    BestBd   Gap | It/Node Time\n",
      "\n",
      "*    0     0               0    5144521.0000 5144521.00  0.00%     -    0s\n",
      "\n",
      "Explored 1 nodes (51 simplex iterations) in 0.01 seconds (0.00 work units)\n",
      "Thread count was 12 (of 12 available processors)\n",
      "\n",
      "Solution count 3: 5.14452e+06 6.09508e+06 2.06973e+07 \n",
      "\n",
      "Optimal solution found (tolerance 1.00e-04)\n",
      "Best objective 5.144521000000e+06, best bound 5.144521000000e+06, gap 0.0000%\n"
     ]
    }
   ],
   "source": [
    "solver = po.SolverFactory('gurobi')\n",
    "result = solver.solve(model, tee = True)"
   ]
  },
  {
   "cell_type": "code",
   "execution_count": 10,
   "metadata": {},
   "outputs": [
    {
     "name": "stdout",
     "output_type": "stream",
     "text": [
      "ok\n",
      "optimal\n"
     ]
    }
   ],
   "source": [
    "print(result.solver.status)\n",
    "print(result.solver.termination_condition)"
   ]
  },
  {
   "cell_type": "code",
   "execution_count": 11,
   "metadata": {},
   "outputs": [
    {
     "name": "stdout",
     "output_type": "stream",
     "text": [
      "Objective value = 5144521.0\n",
      "Open centers:\n",
      "y[NY] = 1.0\n",
      "y[SF] = 1.0\n",
      "y[DAL] = 1.0\n",
      "Used connection\n",
      "x[DEN,DAL] = 1.0\n",
      "x[BOS,NY] = 1.0\n",
      "x[PI,NY] = 1.0\n",
      "x[NY,NY] = 1.0\n",
      "x[CHI,NY] = 1.0\n",
      "x[LA,SF] = 1.0\n",
      "x[SF,SF] = 1.0\n",
      "x[SE,SF] = 1.0\n",
      "x[DAL,DAL] = 1.0\n",
      "x[MIA,NY] = 1.0\n",
      "x[PHO,SF] = 1.0\n"
     ]
    }
   ],
   "source": [
    "print(\"Objective value = \"+ str(pe.value(model.obj)))\n",
    "\n",
    "print(\"Open centers:\")\n",
    "for i in model.C:\n",
    "    if(pe.value(model.y[i]) > 0):\n",
    "        print(str(model.y[i]) + \" = \" + str(pe.value(model.y[i])))\n",
    "\n",
    "print(\"Used connection\")\n",
    "for i in model.C:\n",
    "    for j in model.C:\n",
    "        if(pe.value(model.x[i,j]) > 0):\n",
    "            print(str(model.x[i,j]) + \" = \" + str(pe.value(model.x[i,j])))"
   ]
  }
 ],
 "metadata": {
  "kernelspec": {
   "display_name": "Python 3",
   "language": "python",
   "name": "python3"
  },
  "language_info": {
   "codemirror_mode": {
    "name": "ipython",
    "version": 3
   },
   "file_extension": ".py",
   "mimetype": "text/x-python",
   "name": "python",
   "nbconvert_exporter": "python",
   "pygments_lexer": "ipython3",
   "version": "3.8.5"
  }
 },
 "nbformat": 4,
 "nbformat_minor": 4
}
