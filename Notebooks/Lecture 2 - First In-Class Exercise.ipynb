{
 "cells": [
  {
   "cell_type": "markdown",
   "metadata": {},
   "source": [
    "# Lecture 2 \n",
    "## Exercise 1: First In-Class exercise "
   ]
  },
  {
   "cell_type": "markdown",
   "metadata": {},
   "source": [
    "### Model and solve the following model using Pyomo and Gurobi."
   ]
  },
  {
   "cell_type": "markdown",
   "metadata": {},
   "source": [
    "$$\n",
    "\\begin{alignat*}{3}\n",
    "\\min \\; & 5 x + 1.3 y - 5.4 z & \\\\\n",
    "\\text{s.t.} \\;  & x \\geq -5 & \\\\\n",
    "        & z + 10 y = 100 & \\\\\n",
    "        & x + y \\leq 0 & \\\\\n",
    "        & x \\in \\mathbb{R} & \\\\\n",
    "        & y \\in \\{0,1\\} & \\\\\n",
    "        & z \\in \\mathbb{Z}_+ &\n",
    "\\end{alignat*}\n",
    "$$"
   ]
  },
  {
   "cell_type": "code",
   "execution_count": 1,
   "metadata": {},
   "outputs": [],
   "source": [
    "## Import pyomo environment and pyomo optimizer\n",
    "import pyomo.environ as pe\n",
    "import pyomo.opt as po"
   ]
  },
  {
   "cell_type": "markdown",
   "metadata": {},
   "source": [
    "# Implement your model:\n",
    "## 1. define the decision variables\n",
    "## 2. define the objective function\n",
    "## 3. define the constraints"
   ]
  },
  {
   "cell_type": "code",
   "execution_count": 2,
   "metadata": {},
   "outputs": [],
   "source": [
    "model = pe.ConcreteModel()"
   ]
  },
  {
   "cell_type": "code",
   "execution_count": 3,
   "metadata": {
    "scrolled": true
   },
   "outputs": [],
   "source": [
    "model.x = pe.Var(domain = pe.Reals)\n",
    "model.y = pe.Var(domain = pe.Binary)\n",
    "model.z = pe.Var(domain = pe.NonNegativeIntegers)"
   ]
  },
  {
   "cell_type": "code",
   "execution_count": 4,
   "metadata": {},
   "outputs": [],
   "source": [
    "obj_expr = 5 * model.x + 1.3 * model.y - 5.4 * model.z\n",
    "model.obj = pe.Objective(sense = pe.minimize, expr= obj_expr)"
   ]
  },
  {
   "cell_type": "code",
   "execution_count": 5,
   "metadata": {},
   "outputs": [],
   "source": [
    "con_expr1 = model.x >= -5\n",
    "model.con1 = pe.Constraint(expr = con_expr1)\n",
    "con_expr2 = model.z + 10 * model.y == 100\n",
    "model.con2 = pe.Constraint(expr = con_expr2)\n",
    "con_expr3 = model.x + model.y <= 0\n",
    "model.con3 = pe.Constraint(expr = con_expr3)"
   ]
  },
  {
   "cell_type": "code",
   "execution_count": 6,
   "metadata": {},
   "outputs": [
    {
     "name": "stdout",
     "output_type": "stream",
     "text": [
      "5*x + 1.3*y - 5.4*z\n",
      "-5  <=  x\n",
      "z + 10*y  ==  100\n",
      "x + y  <=  0\n"
     ]
    }
   ],
   "source": [
    "print(obj_expr)\n",
    "print(con_expr1)\n",
    "print(con_expr2)\n",
    "print(con_expr3)"
   ]
  },
  {
   "cell_type": "code",
   "execution_count": 7,
   "metadata": {},
   "outputs": [
    {
     "name": "stdout",
     "output_type": "stream",
     "text": [
      "Set parameter Username\n",
      "Academic license - for non-commercial use only - expires 2022-12-10\n",
      "Read LP format model from file C:\\Users\\rpo330\\AppData\\Local\\Temp\\tmp7mumpabf.pyomo.lp\n",
      "Reading time = 0.01 seconds\n",
      "x4: 4 rows, 4 columns, 6 nonzeros\n",
      "Gurobi Optimizer version 9.5.0 build v9.5.0rc5 (win64)\n",
      "Thread count: 6 physical cores, 12 logical processors, using up to 12 threads\n",
      "Optimize a model with 4 rows, 4 columns and 6 nonzeros\n",
      "Model fingerprint: 0xb86870f6\n",
      "Variable types: 2 continuous, 2 integer (1 binary)\n",
      "Coefficient statistics:\n",
      "  Matrix range     [1e+00, 1e+01]\n",
      "  Objective range  [1e+00, 5e+00]\n",
      "  Bounds range     [1e+00, 1e+00]\n",
      "  RHS range        [1e+00, 1e+02]\n",
      "Presolve removed 4 rows and 4 columns\n",
      "Presolve time: 0.00s\n",
      "Presolve: All rows and columns removed\n",
      "\n",
      "Explored 0 nodes (0 simplex iterations) in 0.00 seconds (0.00 work units)\n",
      "Thread count was 1 (of 12 available processors)\n",
      "\n",
      "Solution count 1: -565 \n",
      "No other solutions better than -565\n",
      "\n",
      "Optimal solution found (tolerance 1.00e-04)\n",
      "Best objective -5.650000000000e+02, best bound -5.650000000000e+02, gap 0.0000%\n"
     ]
    }
   ],
   "source": [
    "solver = po.SolverFactory('gurobi')\n",
    "result = solver.solve(model, tee = True)"
   ]
  },
  {
   "cell_type": "code",
   "execution_count": 8,
   "metadata": {},
   "outputs": [
    {
     "name": "stdout",
     "output_type": "stream",
     "text": [
      "ok\n",
      "optimal\n"
     ]
    }
   ],
   "source": [
    "print(result.solver.status)\n",
    "print(result.solver.termination_condition)"
   ]
  },
  {
   "cell_type": "code",
   "execution_count": 9,
   "metadata": {},
   "outputs": [
    {
     "name": "stdout",
     "output_type": "stream",
     "text": [
      "Objective = -565.0\n",
      "x = -5.0\n",
      "y = 0.0\n",
      "z = 100.0\n"
     ]
    }
   ],
   "source": [
    "print(\"Objective = \" + str(pe.value(model.obj)))\n",
    "print(\"x = \" +  str(pe.value(model.x)))\n",
    "print(\"y = \" + str(pe.value(model.y)))\n",
    "print(\"z = \" + str(pe.value(model.z)))"
   ]
  }
 ],
 "metadata": {
  "kernelspec": {
   "display_name": "Python 3",
   "language": "python",
   "name": "python3"
  },
  "language_info": {
   "codemirror_mode": {
    "name": "ipython",
    "version": 3
   },
   "file_extension": ".py",
   "mimetype": "text/x-python",
   "name": "python",
   "nbconvert_exporter": "python",
   "pygments_lexer": "ipython3",
   "version": "3.8.3"
  }
 },
 "nbformat": 4,
 "nbformat_minor": 4
}
