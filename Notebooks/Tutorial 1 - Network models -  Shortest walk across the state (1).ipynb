{
 "cells": [
  {
   "cell_type": "code",
   "execution_count": 2,
   "metadata": {},
   "outputs": [],
   "source": [
    "# Input data\n",
    "## Set of node\n",
    "nodes = {1, 2, 3, 4, 5, 6, 7, 8, 9,10} \n",
    "\n",
    "## Set of arcs\n",
    "arcs = {(1, 2), (1, 3), (1, 4),\n",
    "        (2,3), (2,4), (2, 5), (2, 6), (2, 7),\n",
    "        (3,2),(3,4),(3, 5), (3,6), \n",
    "        (4, 2), (4,3), (4,5),(4,6),(4,9), \n",
    "        (5,6), (5, 7), (5, 8), (5, 9), (5,10),\n",
    "        (6,5), (6, 7),(6,8) ,(6, 9), (6,10), \n",
    "        (7, 8),(7, 9), (7,10), \n",
    "        (8, 7), (8, 9),\n",
    "        (9,10)\n",
    "       } \n",
    "\n",
    "## Dictionary: use a arc as key (a tuple) to get the distance of the arc\n",
    "distance = { \n",
    "        (1, 2): 70 , (1, 3):63 , (1, 4):56 ,\n",
    "        (2,3):25, (2,4):19, (2, 5):73, (2, 6):50, (2, 7):79 ,\n",
    "        (3,2):25,(3,4):29,(3, 5):69, (3,6):61 , \n",
    "        (4, 2):19 , (4,3):29 , (4,5):67 ,(4,6):45 ,(4,9):85 , \n",
    "        (5,6):18 , (5, 7):67 , (5, 8):69 , (5, 9):54 , (5,10):87 ,\n",
    "        (6,5):18, (6, 7):72, (6,8):52 ,(6, 9):51, (6,10):97 , \n",
    "        (7, 8):17 , (7, 9):15 , (7,10):72 , \n",
    "        (8, 7):17 , (8, 9):15 ,\n",
    "        (9,10):69\n",
    "} \n",
    "s = 1\n",
    "t = 10\n",
    "n = 10"
   ]
  },
  {
   "cell_type": "code",
   "execution_count": null,
   "metadata": {
    "collapsed": true
   },
   "outputs": [],
   "source": []
  }
 ],
 "metadata": {
  "kernelspec": {
   "display_name": "Python 3",
   "language": "python",
   "name": "python3"
  },
  "language_info": {
   "codemirror_mode": {
    "name": "ipython",
    "version": 3
   },
   "file_extension": ".py",
   "mimetype": "text/x-python",
   "name": "python",
   "nbconvert_exporter": "python",
   "pygments_lexer": "ipython3",
   "version": "3.8.3"
  }
 },
 "nbformat": 4,
 "nbformat_minor": 4
}
