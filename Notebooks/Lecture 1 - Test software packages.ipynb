{
 "cells": [
  {
   "cell_type": "code",
   "execution_count": 8,
   "metadata": {},
   "outputs": [],
   "source": [
    "## Import pyomo environment and pyomo optimizer\n",
    "import pyomo.environ as pe\n",
    "import pyomo.opt as po"
   ]
  },
  {
   "cell_type": "code",
   "execution_count": 9,
   "metadata": {},
   "outputs": [],
   "source": [
    "model = pe.ConcreteModel()"
   ]
  },
  {
   "cell_type": "code",
   "execution_count": 10,
   "metadata": {},
   "outputs": [],
   "source": [
    "model.x1 = pe.Var(domain = pe.Reals)\n",
    "model.x2 = pe.Var(domain = pe.NonNegativeIntegers)\n",
    "model.x3 = pe.Var(domain = pe.Binary)"
   ]
  },
  {
   "cell_type": "code",
   "execution_count": 11,
   "metadata": {},
   "outputs": [],
   "source": [
    "obj_expr =  model.x1 + model.x2 - model.x3\n",
    "model.obj = pe.Objective(sense = pe.minimize, expr= obj_expr)"
   ]
  },
  {
   "cell_type": "code",
   "execution_count": 12,
   "metadata": {},
   "outputs": [],
   "source": [
    "con_expr1 = model.x1 + model.x2 + model.x3 == 10\n",
    "model.con1 = pe.Constraint(expr = con_expr1)\n",
    "con_expr2 = model.x1 >=  0\n",
    "model.con2 = pe.Constraint(expr = con_expr2)\n",
    "con_expr3 = model.x1 + model.x3 >=2 \n",
    "model.con3 = pe.Constraint(expr = con_expr3)\n",
    "con_expr4 = model.x1 + model.x2 >= model.x3 \n",
    "model.con4 = pe.Constraint(expr = con_expr4)"
   ]
  },
  {
   "cell_type": "code",
   "execution_count": 13,
   "metadata": {},
   "outputs": [
    {
     "name": "stdout",
     "output_type": "stream",
     "text": [
      "x1 + x2 - x3\n",
      "x1 + x2 + x3  ==  10\n",
      "0  <=  x1\n",
      "2  <=  x1 + x3\n",
      "x3  <=  x1 + x2\n",
      "x3  <=  x1 + x2\n"
     ]
    }
   ],
   "source": [
    "print(obj_expr)\n",
    "print(con_expr1)\n",
    "print(con_expr2)\n",
    "print(con_expr3)\n",
    "print(con_expr4)\n",
    "print(model.con4.expr)"
   ]
  },
  {
   "cell_type": "code",
   "execution_count": 14,
   "metadata": {},
   "outputs": [
    {
     "name": "stdout",
     "output_type": "stream",
     "text": [
      "Set parameter Username\n",
      "Academic license - for non-commercial use only - expires 2022-04-14\n",
      "Read LP format model from file C:\\Users\\timva\\AppData\\Local\\Temp\\tmpmyarl_kn.pyomo.lp\n",
      "Reading time = 0.00 seconds\n",
      "x4: 5 rows, 4 columns, 10 nonzeros\n",
      "Gurobi Optimizer version 9.5.0 build v9.5.0rc5 (win64)\n",
      "Thread count: 4 physical cores, 8 logical processors, using up to 8 threads\n",
      "Optimize a model with 5 rows, 4 columns and 10 nonzeros\n",
      "Model fingerprint: 0xa41242b5\n",
      "Variable types: 2 continuous, 2 integer (1 binary)\n",
      "Coefficient statistics:\n",
      "  Matrix range     [1e+00, 1e+00]\n",
      "  Objective range  [1e+00, 1e+00]\n",
      "  Bounds range     [1e+00, 1e+00]\n",
      "  RHS range        [1e+00, 1e+01]\n",
      "Presolve removed 5 rows and 4 columns\n",
      "Presolve time: 0.00s\n",
      "Presolve: All rows and columns removed\n",
      "\n",
      "Explored 0 nodes (0 simplex iterations) in 0.00 seconds (0.00 work units)\n",
      "Thread count was 1 (of 8 available processors)\n",
      "\n",
      "Solution count 1: 8 \n",
      "\n",
      "Optimal solution found (tolerance 1.00e-04)\n",
      "Best objective 8.000000000000e+00, best bound 8.000000000000e+00, gap 0.0000%\n"
     ]
    }
   ],
   "source": [
    "solver = po.SolverFactory('gurobi')\n",
    "result = solver.solve(model, tee = True)"
   ]
  },
  {
   "cell_type": "code",
   "execution_count": 15,
   "metadata": {},
   "outputs": [
    {
     "name": "stdout",
     "output_type": "stream",
     "text": [
      "Objective = 8.0\n",
      "x1 = 9.0\n",
      "x2 = -0.0\n",
      "x3 = 1.0\n"
     ]
    }
   ],
   "source": [
    "print(\"Objective = \" + str(pe.value(model.obj)))\n",
    "print(\"x1 = \" +  str(pe.value(model.x1)))\n",
    "print(\"x2 = \" + str(pe.value(model.x2)))\n",
    "print(\"x3 = \" + str(pe.value(model.x3)))"
   ]
  },
  {
   "cell_type": "code",
   "execution_count": 16,
   "metadata": {},
   "outputs": [
    {
     "name": "stdout",
     "output_type": "stream",
     "text": [
      "ok\n",
      "optimal\n"
     ]
    }
   ],
   "source": [
    "print(result.solver.status)\n",
    "print(result.solver.termination_condition)"
   ]
  },
  {
   "cell_type": "code",
   "execution_count": null,
   "metadata": {},
   "outputs": [],
   "source": []
  },
  {
   "cell_type": "code",
   "execution_count": null,
   "metadata": {},
   "outputs": [],
   "source": []
  },
  {
   "cell_type": "code",
   "execution_count": null,
   "metadata": {},
   "outputs": [],
   "source": []
  }
 ],
 "metadata": {
  "kernelspec": {
   "display_name": "Python 3",
   "language": "python",
   "name": "python3"
  },
  "language_info": {
   "codemirror_mode": {
    "name": "ipython",
    "version": 3
   },
   "file_extension": ".py",
   "mimetype": "text/x-python",
   "name": "python",
   "nbconvert_exporter": "python",
   "pygments_lexer": "ipython3",
   "version": "3.8.3"
  }
 },
 "nbformat": 4,
 "nbformat_minor": 4
}
