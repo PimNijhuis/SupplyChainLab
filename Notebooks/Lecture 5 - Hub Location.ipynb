{
 "cells": [
  {
   "cell_type": "code",
   "execution_count": 1,
   "metadata": {},
   "outputs": [],
   "source": [
    "cities = { 'AT' , 'BO' , 'CH' , 'DE' , 'HO' , 'LA' , 'NO' , 'NY' , 'PI' , 'SL' , 'SF' , 'SE' }\n",
    "\n",
    "a  = { \n",
    "      ('AT', 'AT'):1,  ('AT', 'BO'):0, ('AT', 'CH'):1, ('AT', 'DE'):0,  ('AT', 'HO'):1, ('AT', 'LA'):0, \n",
    "      ('AT', 'NO'):1,  ('AT', 'NY'):1, ('AT', 'PI'):1, ('AT', 'SL'):0,  ('AT', 'SF'):0, ('AT', 'SE'):0, \n",
    "      \n",
    "      ('BO', 'AT'):0,  ('BO', 'BO'):1, ('BO', 'CH'):0, ('BO', 'DE'):0,  ('BO', 'HO'):0, ('BO', 'LA'):0, \n",
    "      ('BO', 'NO'):0,  ('BO', 'NY'):1, ('BO', 'PI'):1, ('BO', 'SL'):0,  ('BO', 'SF'):0, ('BO', 'SE'):0, \n",
    "      \n",
    "      ('CH', 'AT'):1,  ('CH', 'BO'):0, ('CH', 'CH'):1, ('CH', 'DE'):0,  ('CH', 'HO'):0, ('CH', 'LA'):0, \n",
    "      ('CH', 'NO'):1,  ('CH', 'NY'):0, ('CH', 'PI'):1, ('CH', 'SL'):0,  ('CH', 'SF'):0, ('CH', 'SE'):0, \n",
    "      \n",
    "      ('DE', 'AT'):0,  ('DE', 'BO'):0, ('DE', 'CH'):0, ('DE', 'DE'):1,  ('DE', 'HO'):0, ('DE', 'LA'):0, \n",
    "      ('DE', 'NO'):0,  ('DE', 'NY'):0, ('DE', 'PI'):0, ('DE', 'SL'):1,  ('DE', 'SF'):0, ('DE', 'SE'):0,\n",
    "      \n",
    "      ('HO', 'AT'):1,  ('HO', 'BO'):0, ('HO', 'CH'):0, ('HO', 'DE'):0,  ('HO', 'HO'):1, ('HO', 'LA'):0, \n",
    "      ('HO', 'NO'):1,  ('HO', 'NY'):0, ('HO', 'PI'):0, ('HO', 'SL'):0,  ('HO', 'SF'):0, ('HO', 'SE'):0,\n",
    "      \n",
    "      ('LA', 'AT'):0,  ('LA', 'BO'):0, ('LA', 'CH'):0, ('LA', 'DE'):0,  ('LA', 'HO'):0, ('LA', 'LA'):1, \n",
    "      ('LA', 'NO'):0,  ('LA', 'NY'):0, ('LA', 'PI'):0, ('LA', 'SL'):1,  ('LA', 'SF'):1, ('LA', 'SE'):0,\n",
    "      \n",
    "      ('NO', 'AT'):1,  ('NO', 'BO'):0, ('NO', 'CH'):0, ('NO', 'DE'):0,  ('NO', 'HO'):1, ('NO', 'LA'):0, \n",
    "      ('NO', 'NO'):1,  ('NO', 'NY'):0, ('NO', 'PI'):0, ('NO', 'SL'):0,  ('NO', 'SF'):0, ('NO', 'SE'):0,\n",
    "      \n",
    "      ('NY', 'AT'):1,  ('NY', 'BO'):1, ('NY', 'CH'):1, ('NY', 'DE'):0,  ('NY', 'HO'):0, ('NY', 'LA'):0, \n",
    "      ('NY', 'NO'):0,  ('NY', 'NY'):1, ('NY', 'PI'):1, ('NY', 'SL'):0,  ('NY', 'SF'):0, ('NY', 'SE'):0,\n",
    "      \n",
    "      ('PI', 'AT'):1,  ('PI', 'BO'):1, ('PI', 'CH'):1, ('PI', 'DE'):0,  ('PI', 'HO'):0, ('PI', 'LA'):0, \n",
    "      ('PI', 'NO'):0,  ('PI', 'NY'):1, ('PI', 'PI'):1, ('PI', 'SL'):0,  ('PI', 'SF'):0, ('PI', 'SE'):0,\n",
    "      \n",
    "      ('SL', 'AT'):0,  ('SL', 'BO'):0, ('SL', 'CH'):0, ('SL', 'DE'):1,  ('SL', 'HO'):0, ('SL', 'LA'):1, \n",
    "      ('SL', 'NO'):0,  ('SL', 'NY'):0, ('SL', 'PI'):0, ('SL', 'SL'):1,  ('SL', 'SF'):1, ('SL', 'SE'):1,\n",
    "      \n",
    "      ('SF', 'AT'):0,  ('SF', 'BO'):0, ('SF', 'CH'):0, ('SF', 'DE'):0,  ('SF', 'HO'):0, ('SF', 'LA'):1, \n",
    "      ('SF', 'NO'):0,  ('SF', 'NY'):0, ('SF', 'PI'):0, ('SF', 'SL'):1,  ('SF', 'SF'):1, ('SF', 'SE'):1,\n",
    "      \n",
    "      ('SE', 'AT'):0,  ('SE', 'BO'):0, ('SE', 'CH'):0, ('SE', 'DE'):0,  ('SE', 'HO'):0, ('SE', 'LA'):0, \n",
    "      ('SE', 'NO'):0,  ('SE', 'NY'):0, ('SE', 'PI'):0, ('SE', 'SL'):1,  ('SE', 'SF'):1, ('SE', 'SE'):1,\n",
    "      \n",
    "}"
   ]
  },
  {
   "cell_type": "code",
   "execution_count": 2,
   "metadata": {},
   "outputs": [],
   "source": [
    "import pyomo.environ as pe\n",
    "import pyomo.opt as po"
   ]
  },
  {
   "cell_type": "code",
   "execution_count": 3,
   "metadata": {},
   "outputs": [],
   "source": [
    "model = pe.ConcreteModel()"
   ]
  },
  {
   "cell_type": "code",
   "execution_count": 4,
   "metadata": {},
   "outputs": [],
   "source": [
    "model.C = pe.Set(initialize = cities, ordered = False)"
   ]
  },
  {
   "cell_type": "code",
   "execution_count": 5,
   "metadata": {},
   "outputs": [],
   "source": [
    "model.x = pe.Var(model.C, domain = pe.Binary)"
   ]
  },
  {
   "cell_type": "code",
   "execution_count": 6,
   "metadata": {},
   "outputs": [],
   "source": [
    "objExpr = sum(model.x[c] for c in model.C)\n",
    "model.obj = pe.Objective(expr = objExpr, sense = pe.minimize)"
   ]
  },
  {
   "cell_type": "code",
   "execution_count": 7,
   "metadata": {},
   "outputs": [],
   "source": [
    "model.cnstr = pe.ConstraintList()\n",
    "for i in model.C: \n",
    "    expression = sum(model.x[j] * a[i,j] for j in model.C) >= 1\n",
    "    model.cnstr.add(expression)\n"
   ]
  },
  {
   "cell_type": "code",
   "execution_count": 8,
   "metadata": {},
   "outputs": [
    {
     "name": "stdout",
     "output_type": "stream",
     "text": [
      "Set parameter Username\n",
      "Academic license - for non-commercial use only - expires 2022-12-10\n",
      "Read LP format model from file C:\\Users\\rpo330\\AppData\\Local\\Temp\\tmp26eis5aw.pyomo.lp\n",
      "Reading time = 0.01 seconds\n",
      "x13: 13 rows, 13 columns, 47 nonzeros\n",
      "Gurobi Optimizer version 9.5.0 build v9.5.0rc5 (win64)\n",
      "Thread count: 6 physical cores, 12 logical processors, using up to 12 threads\n",
      "Optimize a model with 13 rows, 13 columns and 47 nonzeros\n",
      "Model fingerprint: 0xfdab89f5\n",
      "Variable types: 1 continuous, 12 integer (12 binary)\n",
      "Coefficient statistics:\n",
      "  Matrix range     [1e+00, 1e+00]\n",
      "  Objective range  [1e+00, 1e+00]\n",
      "  Bounds range     [1e+00, 1e+00]\n",
      "  RHS range        [1e+00, 1e+00]\n",
      "Found heuristic solution: objective 3.0000000\n",
      "Presolve removed 13 rows and 13 columns\n",
      "Presolve time: 0.00s\n",
      "Presolve: All rows and columns removed\n",
      "\n",
      "Explored 0 nodes (0 simplex iterations) in 0.00 seconds (0.00 work units)\n",
      "Thread count was 1 (of 12 available processors)\n",
      "\n",
      "Solution count 1: 3 \n",
      "\n",
      "Optimal solution found (tolerance 1.00e-04)\n",
      "Best objective 3.000000000000e+00, best bound 3.000000000000e+00, gap 0.0000%\n"
     ]
    }
   ],
   "source": [
    "solver = po.SolverFactory('gurobi')\n",
    "result = solver.solve(model, tee = True)"
   ]
  },
  {
   "cell_type": "code",
   "execution_count": 9,
   "metadata": {},
   "outputs": [
    {
     "name": "stdout",
     "output_type": "stream",
     "text": [
      "ok\n",
      "optimal\n"
     ]
    }
   ],
   "source": [
    "print(result.solver.status)\n",
    "print(result.solver.termination_condition)"
   ]
  },
  {
   "cell_type": "code",
   "execution_count": 10,
   "metadata": {},
   "outputs": [
    {
     "name": "stdout",
     "output_type": "stream",
     "text": [
      "x[PI] = 1.0\n",
      "x[AT] = 1.0\n",
      "x[SL] = 1.0\n"
     ]
    }
   ],
   "source": [
    "for c in model.C:\n",
    "    if(pe.value(model.x[c]) > 0):\n",
    "        print(str(model.x[c]) + \" = \" + str(pe.value(model.x[c])))"
   ]
  }
 ],
 "metadata": {
  "kernelspec": {
   "display_name": "Python 3",
   "language": "python",
   "name": "python3"
  },
  "language_info": {
   "codemirror_mode": {
    "name": "ipython",
    "version": 3
   },
   "file_extension": ".py",
   "mimetype": "text/x-python",
   "name": "python",
   "nbconvert_exporter": "python",
   "pygments_lexer": "ipython3",
   "version": "3.8.5"
  }
 },
 "nbformat": 4,
 "nbformat_minor": 4
}
