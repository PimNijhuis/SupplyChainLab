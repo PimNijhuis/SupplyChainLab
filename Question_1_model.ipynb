{
 "cells": [
  {
   "cell_type": "code",
   "execution_count": 12,
   "metadata": {},
   "outputs": [],
   "source": [
    "# Make sure to run Input_data.ipynb first\n",
    "\n",
    "# Load all input data\n",
    "%store -r "
   ]
  },
  {
   "cell_type": "code",
   "execution_count": 13,
   "metadata": {},
   "outputs": [],
   "source": [
    "import pyomo.environ as pe\n",
    "import pyomo.opt as po"
   ]
  },
  {
   "cell_type": "code",
   "execution_count": 14,
   "metadata": {},
   "outputs": [],
   "source": [
    "# Initialize Model\n",
    "model = pe.ConcreteModel()\n",
    "\n",
    "# Sets\n",
    "model.F = pe.Set(initialize = factories ,ordered = False)\n",
    "model.T = pe.Set(initialize = transshipment_points ,ordered = False)\n",
    "model.C = pe.Set(initialize = customers ,ordered = False)\n",
    "model.M = pe.Set(initialize = modes ,ordered = False)\n",
    "model.P = pe.Set(initialize = periods, ordered = False)\n",
    "\n",
    "# Decision Variables\n",
    "model.x = pe.Var(model.F, model.C, model.P, domain = pe.NonNegativeReals)                   # direct tonnes                         !!!TODO : meer uitleg !!!\n",
    "model.y = pe.Var(model.T, model.C , model.P, domain = pe.NonNegativeReals)                  # indirect tonnes                       !!!TODO : meer uitleg !!!\n",
    "model.q_bl = pe.Var(model.F, block_trans, model.P, domain = pe.NonNegativeReals)            # quantity block mode                   !!!TODO : meer uitleg !!!  \n",
    "model.q_s_w = pe.Var(model.F, single_trans, model.P, domain = pe.NonNegativeReals)          # quantity single wagon mode            !!!TODO : meer uitleg !!!\n",
    "model.q_ss = pe.Var(model.F, shortsea_trans, model.P, domain = pe.NonNegativeReals)         # quantity shortsea ship mode           !!!TODO : meer uitleg !!!\n",
    "model.q_ba = pe.Var(model.F, barge_trans, model.P, domain = pe.NonNegativeReals)            # quantity barge mode                   !!!TODO : meer uitleg !!!\n",
    "model.td = pe.Var(model.F, model.C, model.P, domain = pe.NonNegativeIntegers)               # number of trucks via direct route     !!!TODO : meer uitleg !!!\n",
    "model.tid = pe.Var(model.T, model.C, model.P, domain = pe.NonNegativeIntegers)              # number of trucks via indirect route   !!!TODO : meer uitleg !!!"
   ]
  },
  {
   "cell_type": "code",
   "execution_count": 15,
   "metadata": {},
   "outputs": [],
   "source": [
    "objExpr = sum(dist_fact_cust[i, j] * transfer_cost * model.x[i,j,p] for i in model.F for j in model.C for p in model.P)     \\\n",
    "        + sum(block_train_cost[i, j] * model.q_bl[i,j,p] for i in model.F for j in block_trans for p in model.P)            \\\n",
    "        + sum(single_wagon_cost[i, j] * model.q_s_w[i,j,p] for i in model.F for j in single_trans for p in model.P)         \\\n",
    "        + sum(shortsea_cost[i, j] * model.q_ss[i,j,p] for i in model.F for j in shortsea_trans for p in model.P)            \\\n",
    "        + sum(barge_cost[i, j] * model.q_ba[i,j,p] for i in model.F for j in barge_trans for p in model.P)                  \\\n",
    "        + sum(model.td[i,j,p] * truck_fixed_cost for i in model.F for j in model.C for p in model.P)                        \\\n",
    "        + sum(model.tid[i,j,p] * truck_fixed_cost for i in model.T for j in model.C for p in model.P)\n",
    "\n",
    "model.obj = pe.Objective(expr = objExpr, sense = pe.minimize)"
   ]
  },
  {
   "cell_type": "code",
   "execution_count": 16,
   "metadata": {},
   "outputs": [],
   "source": [
    "model.trucksDirect = pe.ConstraintList()\n",
    "for p in model.P:\n",
    "    for i in model.F:\n",
    "        for j in model.C:\n",
    "            expression = model.td[i,j,p] >= model.x[i,j,p] / truck_cap\n",
    "            model.trucksDirect.add(expression)\n",
    "\n",
    "model.trucksIndirect = pe.ConstraintList()\n",
    "for p in model.P:\n",
    "    for i in model.T:\n",
    "        for j in model.C:\n",
    "            expression = model.tid[i,j,p] >= model.y[i,j,p] / truck_cap\n",
    "            model.trucksIndirect.add(expression)\n",
    "\n",
    "model.prodCap = pe.ConstraintList()\n",
    "for p in model.P:\n",
    "    for i in model.F:\n",
    "        expression = sum(model.x[i,j,p] for j in model.C) + sum(model.q_bl[i,j,p] for j in block_trans) + sum(model.q_s_w[i,j,p] for j in single_trans) + sum(model.q_ss[i,j,p] for j in shortsea_trans) + sum(model.q_ba[i,j,p] for j in barge_trans) <= production_cap[i]\n",
    "        model.prodCap.add(expression)\n",
    "\n",
    "model.meetDemand = pe.ConstraintList()\n",
    "for p in model.P:\n",
    "    for j in model.C:\n",
    "        expression = sum(model.x[i,j,p] for i in model.F) + sum(model.y[i,j,p] for i in model.T) >= demands[p][j]\n",
    "        model.meetDemand.add(expression)\n",
    "\n",
    "model.flowBalance = pe.ConstraintList()\n",
    "for p in model.P:\n",
    "    for j in block_trans:\n",
    "        expression_bl = sum(model.q_bl[i,j,p] for i in model.F) \n",
    "        expression_s_w = sum(model.q_s_w[i,j,p] for i in model.F)\n",
    "    for j in shortsea_trans:\n",
    "        expression_ss = sum(model.q_ss[i,j,p] for i in model.F) \n",
    "    for j in barge_trans:\n",
    "        expression_ba = sum(model.q_ba[i,j,p] for i in model.F) \n",
    "    for j in model.T: \n",
    "        expression = expression_bl + expression_s_w + expression_ss + expression_ba == sum(model.y[j,k,p] for k in model.C)\n",
    "        model.flowBalance.add(expression)"
   ]
  },
  {
   "cell_type": "code",
   "execution_count": 17,
   "metadata": {},
   "outputs": [
    {
     "name": "stdout",
     "output_type": "stream",
     "text": [
      "Set parameter Username\n",
      "Academic license - for non-commercial use only - expires 2022-04-28\n",
      "Read LP format model from file /var/folders/nh/v22djfjs2712hmlms5xl3z8h0000gs/T/tmprfpkf6vu.pyomo.lp\n",
      "Reading time = 0.01 seconds\n",
      "x1871: 981 rows, 1871 columns, 4311 nonzeros\n",
      "Gurobi Optimizer version 9.5.1 build v9.5.1rc2 (mac64[rosetta2])\n",
      "Thread count: 8 physical cores, 8 logical processors, using up to 8 threads\n",
      "Optimize a model with 981 rows, 1871 columns and 4311 nonzeros\n",
      "Model fingerprint: 0x6bb06f93\n",
      "Variable types: 1071 continuous, 800 integer (0 binary)\n",
      "Coefficient statistics:\n",
      "  Matrix range     [4e-02, 1e+00]\n",
      "  Objective range  [2e+00, 1e+05]\n",
      "  Bounds range     [0e+00, 0e+00]\n",
      "  RHS range        [1e+00, 2e+03]\n",
      "Found heuristic solution: objective 4127715.2500\n",
      "Presolve removed 1 rows and 241 columns\n",
      "Presolve time: 0.12s\n",
      "Presolved: 980 rows, 1630 columns, 3440 nonzeros\n",
      "Variable types: 830 continuous, 800 integer (30 binary)\n",
      "\n",
      "Root relaxation: objective 3.462003e+04, 896 iterations, 0.00 seconds (0.00 work units)\n",
      "\n",
      "    Nodes    |    Current Node    |     Objective Bounds      |     Work\n",
      " Expl Unexpl |  Obj  Depth IntInf | Incumbent    BestBd   Gap | It/Node Time\n",
      "\n",
      "     0     0 34620.0321    0  139 4127715.25 34620.0321  99.2%     -    0s\n",
      "H    0     0                    41402.627143 34620.0321  16.4%     -    0s\n",
      "H    0     0                    41319.447143 34620.0321  16.2%     -    0s\n",
      "H    0     0                    41073.074500 36234.3765  11.8%     -    0s\n",
      "     0     0 36234.3765    0  222 41073.0745 36234.3765  11.8%     -    0s\n",
      "H    0     0                    40990.256643 36234.3765  11.6%     -    0s\n",
      "H    0     0                    40932.655536 36234.3765  11.5%     -    0s\n",
      "H    0     0                    40850.938036 36234.3765  11.3%     -    0s\n",
      "     0     0 36234.3765    0  224 40850.9380 36234.3765  11.3%     -    0s\n",
      "H    0     0                    40613.896607 36234.3765  10.8%     -    0s\n",
      "H    0     0                    40452.149750 36234.3765  10.4%     -    0s\n",
      "H    0     0                    39965.556250 36234.3765  9.34%     -    0s\n",
      "     0     0 36341.9053    0  228 39965.5562 36341.9053  9.07%     -    0s\n",
      "     0     0 36374.0132    0  235 39965.5562 36374.0132  8.99%     -    0s\n",
      "     0     0 36374.0132    0  228 39965.5562 36374.0132  8.99%     -    0s\n",
      "     0     0 36690.7010    0  242 39965.5562 36690.7010  8.19%     -    0s\n",
      "H    0     0                    38634.095000 36772.5712  4.82%     -    0s\n",
      "     0     0 36772.5712    0  247 38634.0950 36772.5712  4.82%     -    0s\n",
      "     0     0 36803.2351    0  251 38634.0950 36803.2351  4.74%     -    0s\n",
      "     0     0 36843.6625    0  252 38634.0950 36843.6625  4.63%     -    0s\n",
      "     0     0 36844.8681    0  254 38634.0950 36844.8681  4.63%     -    0s\n",
      "H    0     0                    38553.645000 36844.8681  4.43%     -    0s\n",
      "H    0     0                    38391.965000 36844.8681  4.03%     -    0s\n",
      "H    0     0                    38387.220000 36946.5934  3.75%     -    0s\n",
      "     0     0 36946.5934    0  262 38387.2200 36946.5934  3.75%     -    0s\n",
      "H    0     0                    38304.040000 36946.5934  3.54%     -    0s\n",
      "     0     0 36946.5934    0  255 38304.0400 36946.5934  3.54%     -    0s\n",
      "     0     0 37048.6374    0  256 38304.0400 37048.6374  3.28%     -    0s\n",
      "     0     0 37050.6931    0  246 38304.0400 37050.6931  3.27%     -    0s\n",
      "H    0     0                    38300.920000 37050.6931  3.26%     -    0s\n",
      "     0     0 37076.4198    0  245 38300.9200 37076.4198  3.20%     -    0s\n",
      "     0     0 37076.4198    0  153 38300.9200 37076.4198  3.20%     -    0s\n",
      "H    0     0                    37945.108750 37076.4198  2.29%     -    0s\n",
      "H    0     0                    37931.096607 37076.4198  2.25%     -    0s\n",
      "H    0     0                    37916.471607 37076.4198  2.22%     -    0s\n",
      "H    0     0                    37914.201250 37076.4198  2.21%     -    0s\n",
      "H    0     0                    37825.185179 37076.4198  1.98%     -    0s\n",
      "H    0     0                    37818.395000 37076.4198  1.96%     -    0s\n",
      "H    0     0                    37797.362857 37076.4198  1.91%     -    0s\n",
      "H    0     0                    37774.742857 37076.4198  1.85%     -    0s\n",
      "H    0     0                    37762.301857 37076.4198  1.82%     -    0s\n",
      "H    0     0                    37757.204000 37076.4198  1.80%     -    0s\n",
      "H    0     0                    37744.951500 37076.4198  1.77%     -    1s\n",
      "H  641   398                    37742.767500 37575.1027  0.44%   7.0    1s\n",
      "\n",
      "Cutting planes:\n",
      "  Gomory: 18\n",
      "  MIR: 13\n",
      "  StrongCG: 2\n",
      "\n",
      "Explored 2229 nodes (20327 simplex iterations) in 1.44 seconds (0.79 work units)\n",
      "Thread count was 8 (of 8 available processors)\n",
      "\n",
      "Solution count 10: 37742.8 37745 37747.9 ... 37914.2\n",
      "\n",
      "Optimal solution found (tolerance 1.00e-04)\n",
      "Best objective 3.774276750000e+04, best bound 3.774276750000e+04, gap 0.0000%\n"
     ]
    }
   ],
   "source": [
    "solver = po.SolverFactory('gurobi')\n",
    "result = solver.solve(model, tee = True)"
   ]
  },
  {
   "cell_type": "code",
   "execution_count": 21,
   "metadata": {},
   "outputs": [
    {
     "name": "stdout",
     "output_type": "stream",
     "text": [
      "Objective value = 37742.76750000009\n",
      "Direct Tonnes:\n",
      "\n"
     ]
    }
   ],
   "source": [
    "print(\"Objective value = \"+ str(pe.value(model.obj)))\n",
    "print(\"Direct Tonnes:\\n\")\n",
    "for k in model.P:\n",
    "    for i in model.F:\n",
    "        for j in model.C:\n",
    "            if(pe.value(model.x[i,j,k]) > 0):\n",
    "                print(str(model.x[i,j,k]) + \" = \" + str(pe.value(model.x[i,j,k])))\n",
    "\n",
    "print(\"\\Indirect Tonnes:\\n\")\n",
    "for k in model.P:\n",
    "    for i in model.T:\n",
    "        for j in model.C:\n",
    "            if(pe.value(model.y[i,j,k]) > 0):\n",
    "                print(str(model.y[i,j,k]) + \" = \" + str(pe.value(model.y[i,j,k])))"
   ]
  },
  {
   "cell_type": "code",
   "execution_count": null,
   "metadata": {},
   "outputs": [],
   "source": []
  }
 ],
 "metadata": {
  "interpreter": {
   "hash": "397704579725e15f5c7cb49fe5f0341eb7531c82d19f2c29d197e8b64ab5776b"
  },
  "kernelspec": {
   "display_name": "Python 3.9.5 64-bit",
   "language": "python",
   "name": "python3"
  },
  "language_info": {
   "codemirror_mode": {
    "name": "ipython",
    "version": 3
   },
   "file_extension": ".py",
   "mimetype": "text/x-python",
   "name": "python",
   "nbconvert_exporter": "python",
   "pygments_lexer": "ipython3",
   "version": "3.9.5"
  },
  "orig_nbformat": 4
 },
 "nbformat": 4,
 "nbformat_minor": 2
}
