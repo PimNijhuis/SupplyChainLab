{
 "cells": [
  {
   "cell_type": "code",
   "execution_count": 1,
   "metadata": {},
   "outputs": [],
   "source": [
    "# Make sure to run Input_data.ipynb first\n",
    "\n",
    "# Load all input data\n",
    "%store -r "
   ]
  },
  {
   "cell_type": "code",
   "execution_count": 2,
   "metadata": {},
   "outputs": [],
   "source": [
    "import pyomo.environ as pe\n",
    "import pyomo.opt as po"
   ]
  },
  {
   "cell_type": "code",
   "execution_count": 3,
   "metadata": {},
   "outputs": [],
   "source": [
    "# Initialize Model\n",
    "model = pe.ConcreteModel()\n",
    "\n",
    "# Sets\n",
    "model.F = pe.Set(initialize = factories ,ordered = False)\n",
    "model.T = pe.Set(initialize = transshipment_points ,ordered = False)\n",
    "model.C = pe.Set(initialize = customers ,ordered = False)\n",
    "model.M = pe.Set(initialize = modes ,ordered = False)\n",
    "model.P = pe.Set(initialize = periods, ordered = False)\n",
    "\n",
    "# Decision Variables\n",
    "# NOTE je kan ook lower en upper bounds geven aan de waarden\n",
    "model.x = pe.Var(model.F, model.C, model.P, domain = pe.NonNegativeReals)                   # direct tonnes                         !!!TODO : meer uitleg !!!\n",
    "model.y = pe.Var(model.T, model.C , model.P, domain = pe.NonNegativeReals)                  # indirect tonnes                       !!!TODO : meer uitleg !!!\n",
    "model.q_bl = pe.Var(model.F, block_trans, model.P, domain = pe.NonNegativeReals)            # quantity block mode                   !!!TODO : meer uitleg !!!  \n",
    "model.q_s_w = pe.Var(model.F, single_trans, model.P, domain = pe.NonNegativeReals)          # quantity single wagon mode            !!!TODO : meer uitleg !!!\n",
    "model.q_ss = pe.Var(model.F, shortsea_trans, model.P, domain = pe.NonNegativeReals)         # quantity shortsea ship mode           !!!TODO : meer uitleg !!!\n",
    "model.q_ba = pe.Var(model.F, barge_trans, model.P, domain = pe.NonNegativeReals)            # quantity barge mode                   !!!TODO : meer uitleg !!!\n",
    "model.td = pe.Var(model.F, model.C, model.P, domain = pe.NonNegativeIntegers)               # number of trucks via direct route     !!!TODO : meer uitleg !!!\n",
    "model.tid = pe.Var(model.T, model.C, model.P, domain = pe.NonNegativeIntegers)              # number of trucks via indirect route   !!!TODO : meer uitleg !!!"
   ]
  },
  {
   "cell_type": "code",
   "execution_count": 4,
   "metadata": {},
   "outputs": [],
   "source": [
    "objExpr = sum(dist_fact_cust[i, j] * transfer_cost * model.x[i,j,p] for i in model.F for j in model.C for p in model.P)     \\\n",
    "        + sum(block_train_cost[i, j] * model.q_bl[i,j,p] for i in model.F for j in block_trans for p in model.P)            \\\n",
    "        + sum(single_wagon_cost[i, j] * model.q_s_w[i,j,p] for i in model.F for j in single_trans for p in model.P)         \\\n",
    "        + sum(shortsea_cost[i, j] * model.q_ss[i,j,p] for i in model.F for j in shortsea_trans for p in model.P)            \\\n",
    "        + sum(barge_cost[i, j] * model.q_ba[i,j,p] for i in model.F for j in barge_trans for p in model.P)                  \\\n",
    "        + sum(dist_point_cust[i, j] * transfer_cost * model.y[i,j,p] for i in model.T for j in model.C for p in model.P)    \\\n",
    "        + sum(handling_costs[i] * model.y[i,j,p] for i in model.T for j in model.C for p in model.P)                        \\\n",
    "        + sum(model.td[i,j,p] * truck_fixed_cost for i in model.F for j in model.C for p in model.P)                        \\\n",
    "        + sum(model.tid[i,j,p] * truck_fixed_cost for i in model.T for j in model.C for p in model.P)\n",
    "\n",
    "model.obj = pe.Objective(expr = objExpr, sense = pe.minimize)"
   ]
  },
  {
   "cell_type": "code",
   "execution_count": 6,
   "metadata": {},
   "outputs": [],
   "source": [
    "model.trucksDirect = pe.ConstraintList()\n",
    "for p in model.P:\n",
    "    for i in model.F:\n",
    "        for j in model.C:\n",
    "            expression = model.td[i,j,p] >= model.x[i,j,p] / truck_cap\n",
    "            model.trucksDirect.add(expression)\n",
    "\n",
    "model.trucksIndirect = pe.ConstraintList()\n",
    "for p in model.P:\n",
    "    for i in model.T:\n",
    "        for j in model.C:\n",
    "            expression = model.tid[i,j,p] >= model.y[i,j,p] / truck_cap\n",
    "            model.trucksIndirect.add(expression)\n",
    "\n",
    "model.prodCap = pe.ConstraintList()\n",
    "for p in model.P:\n",
    "    for i in model.F:\n",
    "        expression = sum(model.x[i,j,p] for j in model.C) + sum(model.q_bl[i,j,p] for j in block_trans) + sum(model.q_s_w[i,j,p] for j in single_trans) + sum(model.q_ss[i,j,p] for j in shortsea_trans) + sum(model.q_ba[i,j,p] for j in barge_trans) <= production_cap[i]\n",
    "        model.prodCap.add(expression)\n",
    "\n",
    "model.meetDemand = pe.ConstraintList()\n",
    "for p in model.P:\n",
    "    for j in model.C:\n",
    "        expression = sum(model.x[i,j,p] for i in model.F) + sum(model.y[i,j,p] for i in model.T) >= demands[p][j]\n",
    "        model.meetDemand.add(expression)\n",
    "\n",
    "model.flowBalance = pe.ConstraintList()\n",
    "for p in model.P:\n",
    "    for j in block_trans:\n",
    "        expression_bl = sum(model.q_bl[i,j,p] for i in model.F)\n",
    "        expression_s_w = sum(model.q_s_w[i,j,p] for i in model.F)\n",
    "    for j in shortsea_trans:\n",
    "        expression_ss = sum(model.q_ss[i,j,p] for i in model.F) \n",
    "    for j in barge_trans:\n",
    "        expression_ba = sum(model.q_ba[i,j,p] for i in model.F) \n",
    "    for j in model.T: \n",
    "        expression = expression_bl + expression_s_w + expression_ss + expression_ba == sum(model.y[j,k,p] for k in model.C)\n",
    "        model.flowBalance.add(expression)"
   ]
  },
  {
   "cell_type": "code",
   "execution_count": 7,
   "metadata": {},
   "outputs": [
    {
     "name": "stdout",
     "output_type": "stream",
     "text": [
      "Objective value = 16318.785999999998\n"
     ]
    }
   ],
   "source": [
    "solver = po.SolverFactory('gurobi')\n",
    "result = solver.solve(model, tee = True)"
   ]
  },
  {
   "cell_type": "code",
   "execution_count": 8,
   "metadata": {},
   "outputs": [
    {
     "name": "stdout",
     "output_type": "stream",
     "text": [
      "Objective value = 16318.785999999998\n",
      "Direct Tonnes:\n",
      "\n",
      "x[Ijmuiden,Neuss,1] = 213.09999999999997\n",
      "x[Ijmuiden,Iserlohn,1] = 11.400000000000006\n",
      "x[Ijmuiden,Schwerte,1] = 1089.4\n",
      "x[Ijmuiden,Bochum,1] = 55.2\n",
      "x[Ijmuiden,Gelsenkirchen,1] = 69.8\n",
      "x[Ijmuiden,Hagen,1] = 273.9\n",
      "x[Ijmuiden,Boenen,1] = 86.5\n",
      "x[Ijmuiden,Dortmund,1] = 50.7\n",
      "x[South Wales,Iserlohn,1] = 190.0\n",
      "x[Segal,Neuss,1] = 17.600000000000023\n",
      "x[Segal,Schwerte,1] = 12.4\n",
      "\\Indirect Tonnes:\n",
      "\n"
     ]
    }
   ],
   "source": [
    "print(\"Objective value = \"+ str(pe.value(model.obj)))\n",
    "print(\"Direct Tonnes:\\n\")\n",
    "for k in model.P:\n",
    "    for i in model.F:\n",
    "        for j in model.C:\n",
    "            if(pe.value(model.x[i,j,k]) > 0):\n",
    "                print(str(model.x[i,j,k]) + \" = \" + str(pe.value(model.x[i,j,k])))\n",
    "\n",
    "print(\"\\Indirect Tonnes:\\n\")\n",
    "for k in model.P:\n",
    "    for i in model.T:\n",
    "        for j in model.C:\n",
    "            if(pe.value(model.y[i,j,k]) > 0):\n",
    "                print(str(model.y[i,j,k]) + \" = \" + str(pe.value(model.y[i,j,k])))"
   ]
  }
 ],
 "metadata": {
  "interpreter": {
   "hash": "397704579725e15f5c7cb49fe5f0341eb7531c82d19f2c29d197e8b64ab5776b"
  },
  "kernelspec": {
   "display_name": "Python 3.9.5 64-bit",
   "language": "python",
   "name": "python3"
  },
  "language_info": {
   "codemirror_mode": {
    "name": "ipython",
    "version": 3
   },
   "file_extension": ".py",
   "mimetype": "text/x-python",
   "name": "python",
   "nbconvert_exporter": "python",
   "pygments_lexer": "ipython3",
   "version": "3.9.5"
  },
  "orig_nbformat": 4
 },
 "nbformat": 4,
 "nbformat_minor": 2
}
